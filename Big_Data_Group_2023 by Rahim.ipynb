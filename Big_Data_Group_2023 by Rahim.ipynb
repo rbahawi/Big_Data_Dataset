{
 "cells": [
  {
   "cell_type": "markdown",
   "id": "07b8bd51",
   "metadata": {},
   "source": [
    "## Big Data Group-Work -13March2023\n",
    "## By: Mohammad Rahim Bahawi"
   ]
  },
  {
   "cell_type": "markdown",
   "id": "7f03cc0d",
   "metadata": {},
   "source": [
    "## Introduction\n",
    "Transportation accidents annually account for over a million fatalities and fifty million injuries. It is predicted that by the year 2030, road accidents will be the fifth-leading cause of mortality globally. The World Health Organization (2013) reports that highway crashes cause immeasurable human misery, countless deaths, and huge healthcare and lost-income expenses.\n",
    "The time of day, ages and sexes of passengers, road surface conditions, weather, potential contributing factors, roadway type, roadway lighting, speed limits, basic roadway geometrics (curve, grade, etc.), crash type (rollover, rear-end, etc.), objects struck, drivers' sexes, and driving histories are all pieces of data that law enforcement agencies may collect. Our understanding of the many factors that affect the likelihood and severity (in terms of personal injury) of highway crashes can be greatly improved by using new methods that deal with complex issues like unobserved heterogeneity, risk compensation, spatial and temporal correlations, and others. Then we can take the necessary steps to reduce the number of traffic-related deaths and accidents across the country."
   ]
  },
  {
   "cell_type": "markdown",
   "id": "6ef597ed",
   "metadata": {},
   "source": [
    "## Business Objective and Context\n",
    "The business goal is to determine the degree of casualties so that the government can focus on reducing fatalities and serious injuries caused by traffic accidents in high-risk regions and along high-accident routes. The data could also be used by the government to assess the efficacy of traffic safety programmes.\n",
    "\n",
    "The number of seriously injured people treated each day **casualty severity** is our Target variable while and other relevant variables such as vehicle reference, casualty reference,casualty class,sex of the casualty,age of the casualty, number of casualties,car passenger, speed limit, weather condition and... will be as our exploratory variables in this prediction."
   ]
  },
  {
   "cell_type": "markdown",
   "id": "16605fa7",
   "metadata": {},
   "source": [
    "## Loading Datasets\n",
    "In this part we are planning to load two datasets the accident and casualty.\n",
    "Our Target varible in this model is Casualty_Serverity and our exploratoy variables are the combination of two datasets that we have loaded them as DS1_Accident_Casualty_2022 and DS2_Casualty_Casualty_2022"
   ]
  },
  {
   "cell_type": "markdown",
   "id": "79340a7a",
   "metadata": {},
   "source": [
    "### For accessing the datasets you can use following Github URL for the both datasets.\n",
    "\n",
    "  DS1_Casualty=https://raw.githubusercontent.com/rbahawi/Big_Data_Dataset/main/dft_road_casualty_statistics_casualty_provisional_mid_year_unvalidated_2022.csv\n",
    "  DS2_Accident=https://raw.githubusercontent.com/rbahawi/Big_Data_Dataset/main/dft_road_casualty_statistics_accident_provisional_mid_year_unvalidated_2022.csv  "
   ]
  },
  {
   "cell_type": "code",
   "execution_count": 25,
   "id": "c8c41d0d",
   "metadata": {},
   "outputs": [],
   "source": [
    "import pandas as pd\n",
    "import numpy as np\n",
    "import seaborn as sns\n",
    "import matplotlib.pyplot as plt\n",
    "from sklearn.model_selection import train_test_split\n",
    "%matplotlib inline"
   ]
  },
  {
   "cell_type": "code",
   "execution_count": 26,
   "id": "50795d84",
   "metadata": {},
   "outputs": [
    {
     "data": {
      "text/html": [
       "<div>\n",
       "<style scoped>\n",
       "    .dataframe tbody tr th:only-of-type {\n",
       "        vertical-align: middle;\n",
       "    }\n",
       "\n",
       "    .dataframe tbody tr th {\n",
       "        vertical-align: top;\n",
       "    }\n",
       "\n",
       "    .dataframe thead th {\n",
       "        text-align: right;\n",
       "    }\n",
       "</style>\n",
       "<table border=\"1\" class=\"dataframe\">\n",
       "  <thead>\n",
       "    <tr style=\"text-align: right;\">\n",
       "      <th></th>\n",
       "      <th>status</th>\n",
       "      <th>accident_index</th>\n",
       "      <th>accident_year</th>\n",
       "      <th>accident_reference</th>\n",
       "      <th>vehicle_reference</th>\n",
       "      <th>casualty_reference</th>\n",
       "      <th>casualty_class</th>\n",
       "      <th>sex_of_casualty</th>\n",
       "      <th>age_of_casualty</th>\n",
       "      <th>age_band_of_casualty</th>\n",
       "      <th>casualty_severity</th>\n",
       "      <th>pedestrian_location</th>\n",
       "      <th>pedestrian_movement</th>\n",
       "      <th>car_passenger</th>\n",
       "      <th>bus_or_coach_passenger</th>\n",
       "      <th>pedestrian_road_maintenance_worker</th>\n",
       "      <th>casualty_type</th>\n",
       "      <th>casualty_home_area_type</th>\n",
       "      <th>casualty_imd_decile</th>\n",
       "      <th>lsoa_of_casualty</th>\n",
       "    </tr>\n",
       "  </thead>\n",
       "  <tbody>\n",
       "    <tr>\n",
       "      <th>0</th>\n",
       "      <td>Unvalidated</td>\n",
       "      <td>2022070151244</td>\n",
       "      <td>2022</td>\n",
       "      <td>070151244</td>\n",
       "      <td>2</td>\n",
       "      <td>1</td>\n",
       "      <td>1</td>\n",
       "      <td>2</td>\n",
       "      <td>46</td>\n",
       "      <td>8</td>\n",
       "      <td>3</td>\n",
       "      <td>0</td>\n",
       "      <td>0</td>\n",
       "      <td>0</td>\n",
       "      <td>0</td>\n",
       "      <td>0</td>\n",
       "      <td>9</td>\n",
       "      <td>1</td>\n",
       "      <td>9</td>\n",
       "      <td>E01033378</td>\n",
       "    </tr>\n",
       "    <tr>\n",
       "      <th>1</th>\n",
       "      <td>Unvalidated</td>\n",
       "      <td>2022070152668</td>\n",
       "      <td>2022</td>\n",
       "      <td>070152668</td>\n",
       "      <td>1</td>\n",
       "      <td>1</td>\n",
       "      <td>1</td>\n",
       "      <td>1</td>\n",
       "      <td>30</td>\n",
       "      <td>6</td>\n",
       "      <td>3</td>\n",
       "      <td>0</td>\n",
       "      <td>0</td>\n",
       "      <td>0</td>\n",
       "      <td>0</td>\n",
       "      <td>0</td>\n",
       "      <td>9</td>\n",
       "      <td>1</td>\n",
       "      <td>2</td>\n",
       "      <td>E01018551</td>\n",
       "    </tr>\n",
       "    <tr>\n",
       "      <th>2</th>\n",
       "      <td>Unvalidated</td>\n",
       "      <td>2022070154696</td>\n",
       "      <td>2022</td>\n",
       "      <td>070154696</td>\n",
       "      <td>1</td>\n",
       "      <td>1</td>\n",
       "      <td>1</td>\n",
       "      <td>2</td>\n",
       "      <td>58</td>\n",
       "      <td>9</td>\n",
       "      <td>3</td>\n",
       "      <td>0</td>\n",
       "      <td>0</td>\n",
       "      <td>0</td>\n",
       "      <td>0</td>\n",
       "      <td>0</td>\n",
       "      <td>9</td>\n",
       "      <td>1</td>\n",
       "      <td>10</td>\n",
       "      <td>E01006134</td>\n",
       "    </tr>\n",
       "    <tr>\n",
       "      <th>3</th>\n",
       "      <td>Unvalidated</td>\n",
       "      <td>2022070154696</td>\n",
       "      <td>2022</td>\n",
       "      <td>070154696</td>\n",
       "      <td>2</td>\n",
       "      <td>3</td>\n",
       "      <td>1</td>\n",
       "      <td>2</td>\n",
       "      <td>78</td>\n",
       "      <td>11</td>\n",
       "      <td>3</td>\n",
       "      <td>0</td>\n",
       "      <td>0</td>\n",
       "      <td>0</td>\n",
       "      <td>0</td>\n",
       "      <td>0</td>\n",
       "      <td>9</td>\n",
       "      <td>2</td>\n",
       "      <td>10</td>\n",
       "      <td>E01018724</td>\n",
       "    </tr>\n",
       "    <tr>\n",
       "      <th>4</th>\n",
       "      <td>Unvalidated</td>\n",
       "      <td>2022070154696</td>\n",
       "      <td>2022</td>\n",
       "      <td>070154696</td>\n",
       "      <td>3</td>\n",
       "      <td>2</td>\n",
       "      <td>1</td>\n",
       "      <td>1</td>\n",
       "      <td>63</td>\n",
       "      <td>9</td>\n",
       "      <td>3</td>\n",
       "      <td>0</td>\n",
       "      <td>0</td>\n",
       "      <td>0</td>\n",
       "      <td>0</td>\n",
       "      <td>0</td>\n",
       "      <td>9</td>\n",
       "      <td>3</td>\n",
       "      <td>7</td>\n",
       "      <td>W01000578</td>\n",
       "    </tr>\n",
       "  </tbody>\n",
       "</table>\n",
       "</div>"
      ],
      "text/plain": [
       "        status accident_index  accident_year accident_reference  \\\n",
       "0  Unvalidated  2022070151244           2022          070151244   \n",
       "1  Unvalidated  2022070152668           2022          070152668   \n",
       "2  Unvalidated  2022070154696           2022          070154696   \n",
       "3  Unvalidated  2022070154696           2022          070154696   \n",
       "4  Unvalidated  2022070154696           2022          070154696   \n",
       "\n",
       "   vehicle_reference  casualty_reference  casualty_class  sex_of_casualty  \\\n",
       "0                  2                   1               1                2   \n",
       "1                  1                   1               1                1   \n",
       "2                  1                   1               1                2   \n",
       "3                  2                   3               1                2   \n",
       "4                  3                   2               1                1   \n",
       "\n",
       "   age_of_casualty  age_band_of_casualty  casualty_severity  \\\n",
       "0               46                     8                  3   \n",
       "1               30                     6                  3   \n",
       "2               58                     9                  3   \n",
       "3               78                    11                  3   \n",
       "4               63                     9                  3   \n",
       "\n",
       "   pedestrian_location  pedestrian_movement  car_passenger  \\\n",
       "0                    0                    0              0   \n",
       "1                    0                    0              0   \n",
       "2                    0                    0              0   \n",
       "3                    0                    0              0   \n",
       "4                    0                    0              0   \n",
       "\n",
       "   bus_or_coach_passenger  pedestrian_road_maintenance_worker  casualty_type  \\\n",
       "0                       0                                   0              9   \n",
       "1                       0                                   0              9   \n",
       "2                       0                                   0              9   \n",
       "3                       0                                   0              9   \n",
       "4                       0                                   0              9   \n",
       "\n",
       "   casualty_home_area_type  casualty_imd_decile lsoa_of_casualty  \n",
       "0                        1                    9        E01033378  \n",
       "1                        1                    2        E01018551  \n",
       "2                        1                   10        E01006134  \n",
       "3                        2                   10        E01018724  \n",
       "4                        3                    7        W01000578  "
      ]
     },
     "execution_count": 26,
     "metadata": {},
     "output_type": "execute_result"
    }
   ],
   "source": [
    "DS1_Casualty = pd.read_csv(\"https://raw.githubusercontent.com/rbahawi/Big_Data_Dataset/main/dft_road_casualty_statistics_casualty_provisional_mid_year_unvalidated_2022.csv\")\n",
    "DS1_Casualty.head()"
   ]
  },
  {
   "cell_type": "code",
   "execution_count": 27,
   "id": "054a1928",
   "metadata": {},
   "outputs": [
    {
     "data": {
      "text/plain": [
       "Index(['status', 'accident_index', 'accident_year', 'accident_reference',\n",
       "       'vehicle_reference', 'casualty_reference', 'casualty_class',\n",
       "       'sex_of_casualty', 'age_of_casualty', 'age_band_of_casualty',\n",
       "       'casualty_severity', 'pedestrian_location', 'pedestrian_movement',\n",
       "       'car_passenger', 'bus_or_coach_passenger',\n",
       "       'pedestrian_road_maintenance_worker', 'casualty_type',\n",
       "       'casualty_home_area_type', 'casualty_imd_decile', 'lsoa_of_casualty'],\n",
       "      dtype='object')"
      ]
     },
     "execution_count": 27,
     "metadata": {},
     "output_type": "execute_result"
    }
   ],
   "source": [
    "DS1_Casualty.columns"
   ]
  },
  {
   "cell_type": "code",
   "execution_count": 28,
   "id": "31336a65",
   "metadata": {},
   "outputs": [
    {
     "data": {
      "text/plain": [
       "(61352, 20)"
      ]
     },
     "execution_count": 28,
     "metadata": {},
     "output_type": "execute_result"
    }
   ],
   "source": [
    "# For checking size of the datasets and more infroamtion regarding with datasets we can using below codes.\n",
    "DS1_Casualty.shape"
   ]
  },
  {
   "cell_type": "code",
   "execution_count": 29,
   "id": "111cd2c8",
   "metadata": {},
   "outputs": [
    {
     "name": "stdout",
     "output_type": "stream",
     "text": [
      "<class 'pandas.core.frame.DataFrame'>\n",
      "RangeIndex: 61352 entries, 0 to 61351\n",
      "Data columns (total 20 columns):\n",
      " #   Column                              Non-Null Count  Dtype \n",
      "---  ------                              --------------  ----- \n",
      " 0   status                              61352 non-null  object\n",
      " 1   accident_index                      61352 non-null  object\n",
      " 2   accident_year                       61352 non-null  int64 \n",
      " 3   accident_reference                  61352 non-null  object\n",
      " 4   vehicle_reference                   61352 non-null  int64 \n",
      " 5   casualty_reference                  61352 non-null  int64 \n",
      " 6   casualty_class                      61352 non-null  int64 \n",
      " 7   sex_of_casualty                     61352 non-null  int64 \n",
      " 8   age_of_casualty                     61352 non-null  int64 \n",
      " 9   age_band_of_casualty                61352 non-null  int64 \n",
      " 10  casualty_severity                   61352 non-null  int64 \n",
      " 11  pedestrian_location                 61352 non-null  int64 \n",
      " 12  pedestrian_movement                 61352 non-null  int64 \n",
      " 13  car_passenger                       61352 non-null  int64 \n",
      " 14  bus_or_coach_passenger              61352 non-null  int64 \n",
      " 15  pedestrian_road_maintenance_worker  61352 non-null  int64 \n",
      " 16  casualty_type                       61352 non-null  int64 \n",
      " 17  casualty_home_area_type             61352 non-null  int64 \n",
      " 18  casualty_imd_decile                 61352 non-null  int64 \n",
      " 19  lsoa_of_casualty                    61352 non-null  object\n",
      "dtypes: int64(16), object(4)\n",
      "memory usage: 9.4+ MB\n"
     ]
    }
   ],
   "source": [
    "DS1_Casualty.info()"
   ]
  },
  {
   "cell_type": "code",
   "execution_count": 30,
   "id": "7e18b199",
   "metadata": {},
   "outputs": [
    {
     "data": {
      "text/html": [
       "<div>\n",
       "<style scoped>\n",
       "    .dataframe tbody tr th:only-of-type {\n",
       "        vertical-align: middle;\n",
       "    }\n",
       "\n",
       "    .dataframe tbody tr th {\n",
       "        vertical-align: top;\n",
       "    }\n",
       "\n",
       "    .dataframe thead th {\n",
       "        text-align: right;\n",
       "    }\n",
       "</style>\n",
       "<table border=\"1\" class=\"dataframe\">\n",
       "  <thead>\n",
       "    <tr style=\"text-align: right;\">\n",
       "      <th></th>\n",
       "      <th>status</th>\n",
       "      <th>accident_index</th>\n",
       "      <th>accident_year</th>\n",
       "      <th>accident_reference</th>\n",
       "      <th>location_easting_osgr</th>\n",
       "      <th>location_northing_osgr</th>\n",
       "      <th>longitude</th>\n",
       "      <th>latitude</th>\n",
       "      <th>police_force</th>\n",
       "      <th>accident_severity</th>\n",
       "      <th>...</th>\n",
       "      <th>pedestrian_crossing_physical_facilities</th>\n",
       "      <th>light_conditions</th>\n",
       "      <th>weather_conditions</th>\n",
       "      <th>road_surface_conditions</th>\n",
       "      <th>special_conditions_at_site</th>\n",
       "      <th>carriageway_hazards</th>\n",
       "      <th>urban_or_rural_area</th>\n",
       "      <th>did_police_officer_attend_scene_of_accident</th>\n",
       "      <th>trunk_road_flag</th>\n",
       "      <th>lsoa_of_accident_location</th>\n",
       "    </tr>\n",
       "  </thead>\n",
       "  <tbody>\n",
       "    <tr>\n",
       "      <th>0</th>\n",
       "      <td>Unvalidated</td>\n",
       "      <td>2022010369821</td>\n",
       "      <td>2022</td>\n",
       "      <td>010369821</td>\n",
       "      <td>524257.0</td>\n",
       "      <td>172324.0</td>\n",
       "      <td>NaN</td>\n",
       "      <td>NaN</td>\n",
       "      <td>1</td>\n",
       "      <td>3</td>\n",
       "      <td>...</td>\n",
       "      <td>9</td>\n",
       "      <td>1</td>\n",
       "      <td>8</td>\n",
       "      <td>1</td>\n",
       "      <td>0</td>\n",
       "      <td>0</td>\n",
       "      <td>-1</td>\n",
       "      <td>3</td>\n",
       "      <td>-1</td>\n",
       "      <td>E01003464</td>\n",
       "    </tr>\n",
       "    <tr>\n",
       "      <th>1</th>\n",
       "      <td>Unvalidated</td>\n",
       "      <td>2022010363954</td>\n",
       "      <td>2022</td>\n",
       "      <td>010363954</td>\n",
       "      <td>539657.0</td>\n",
       "      <td>175987.0</td>\n",
       "      <td>NaN</td>\n",
       "      <td>NaN</td>\n",
       "      <td>1</td>\n",
       "      <td>3</td>\n",
       "      <td>...</td>\n",
       "      <td>1</td>\n",
       "      <td>1</td>\n",
       "      <td>1</td>\n",
       "      <td>1</td>\n",
       "      <td>0</td>\n",
       "      <td>0</td>\n",
       "      <td>-1</td>\n",
       "      <td>3</td>\n",
       "      <td>-1</td>\n",
       "      <td>E01003202</td>\n",
       "    </tr>\n",
       "    <tr>\n",
       "      <th>2</th>\n",
       "      <td>Unvalidated</td>\n",
       "      <td>2022070199385</td>\n",
       "      <td>2022</td>\n",
       "      <td>070199385</td>\n",
       "      <td>356998.0</td>\n",
       "      <td>389307.0</td>\n",
       "      <td>NaN</td>\n",
       "      <td>NaN</td>\n",
       "      <td>7</td>\n",
       "      <td>3</td>\n",
       "      <td>...</td>\n",
       "      <td>0</td>\n",
       "      <td>1</td>\n",
       "      <td>1</td>\n",
       "      <td>1</td>\n",
       "      <td>0</td>\n",
       "      <td>0</td>\n",
       "      <td>-1</td>\n",
       "      <td>2</td>\n",
       "      <td>-1</td>\n",
       "      <td>E01012567</td>\n",
       "    </tr>\n",
       "    <tr>\n",
       "      <th>3</th>\n",
       "      <td>Unvalidated</td>\n",
       "      <td>2022070212652</td>\n",
       "      <td>2022</td>\n",
       "      <td>070212652</td>\n",
       "      <td>366237.0</td>\n",
       "      <td>387487.0</td>\n",
       "      <td>NaN</td>\n",
       "      <td>NaN</td>\n",
       "      <td>7</td>\n",
       "      <td>2</td>\n",
       "      <td>...</td>\n",
       "      <td>0</td>\n",
       "      <td>4</td>\n",
       "      <td>1</td>\n",
       "      <td>1</td>\n",
       "      <td>0</td>\n",
       "      <td>0</td>\n",
       "      <td>-1</td>\n",
       "      <td>1</td>\n",
       "      <td>-1</td>\n",
       "      <td>E01012515</td>\n",
       "    </tr>\n",
       "    <tr>\n",
       "      <th>4</th>\n",
       "      <td>Unvalidated</td>\n",
       "      <td>2022010363966</td>\n",
       "      <td>2022</td>\n",
       "      <td>010363966</td>\n",
       "      <td>536133.0</td>\n",
       "      <td>173292.0</td>\n",
       "      <td>NaN</td>\n",
       "      <td>NaN</td>\n",
       "      <td>1</td>\n",
       "      <td>3</td>\n",
       "      <td>...</td>\n",
       "      <td>4</td>\n",
       "      <td>1</td>\n",
       "      <td>1</td>\n",
       "      <td>1</td>\n",
       "      <td>0</td>\n",
       "      <td>0</td>\n",
       "      <td>-1</td>\n",
       "      <td>1</td>\n",
       "      <td>-1</td>\n",
       "      <td>E01003316</td>\n",
       "    </tr>\n",
       "  </tbody>\n",
       "</table>\n",
       "<p>5 rows × 37 columns</p>\n",
       "</div>"
      ],
      "text/plain": [
       "        status accident_index  accident_year accident_reference  \\\n",
       "0  Unvalidated  2022010369821           2022          010369821   \n",
       "1  Unvalidated  2022010363954           2022          010363954   \n",
       "2  Unvalidated  2022070199385           2022          070199385   \n",
       "3  Unvalidated  2022070212652           2022          070212652   \n",
       "4  Unvalidated  2022010363966           2022          010363966   \n",
       "\n",
       "   location_easting_osgr  location_northing_osgr  longitude  latitude  \\\n",
       "0               524257.0                172324.0        NaN       NaN   \n",
       "1               539657.0                175987.0        NaN       NaN   \n",
       "2               356998.0                389307.0        NaN       NaN   \n",
       "3               366237.0                387487.0        NaN       NaN   \n",
       "4               536133.0                173292.0        NaN       NaN   \n",
       "\n",
       "   police_force  accident_severity  ...  \\\n",
       "0             1                  3  ...   \n",
       "1             1                  3  ...   \n",
       "2             7                  3  ...   \n",
       "3             7                  2  ...   \n",
       "4             1                  3  ...   \n",
       "\n",
       "   pedestrian_crossing_physical_facilities  light_conditions  \\\n",
       "0                                        9                 1   \n",
       "1                                        1                 1   \n",
       "2                                        0                 1   \n",
       "3                                        0                 4   \n",
       "4                                        4                 1   \n",
       "\n",
       "  weather_conditions  road_surface_conditions special_conditions_at_site  \\\n",
       "0                  8                        1                          0   \n",
       "1                  1                        1                          0   \n",
       "2                  1                        1                          0   \n",
       "3                  1                        1                          0   \n",
       "4                  1                        1                          0   \n",
       "\n",
       "   carriageway_hazards urban_or_rural_area  \\\n",
       "0                    0                  -1   \n",
       "1                    0                  -1   \n",
       "2                    0                  -1   \n",
       "3                    0                  -1   \n",
       "4                    0                  -1   \n",
       "\n",
       "  did_police_officer_attend_scene_of_accident  trunk_road_flag  \\\n",
       "0                                           3               -1   \n",
       "1                                           3               -1   \n",
       "2                                           2               -1   \n",
       "3                                           1               -1   \n",
       "4                                           1               -1   \n",
       "\n",
       "   lsoa_of_accident_location  \n",
       "0                  E01003464  \n",
       "1                  E01003202  \n",
       "2                  E01012567  \n",
       "3                  E01012515  \n",
       "4                  E01003316  \n",
       "\n",
       "[5 rows x 37 columns]"
      ]
     },
     "execution_count": 30,
     "metadata": {},
     "output_type": "execute_result"
    }
   ],
   "source": [
    "DS2_Accident = pd.read_csv('https://raw.githubusercontent.com/rbahawi/Big_Data_Dataset/main/dft_road_casualty_statistics_accident_provisional_mid_year_unvalidated_2022.csv')\n",
    "DS2_Accident.head()"
   ]
  },
  {
   "cell_type": "code",
   "execution_count": 31,
   "id": "0cf18842",
   "metadata": {},
   "outputs": [
    {
     "data": {
      "text/plain": [
       "Index(['status', 'accident_index', 'accident_year', 'accident_reference',\n",
       "       'location_easting_osgr', 'location_northing_osgr', 'longitude',\n",
       "       'latitude', 'police_force', 'accident_severity', 'number_of_vehicles',\n",
       "       'number_of_casualties', 'date', 'day_of_week', 'time',\n",
       "       'local_authority_district', 'local_authority_ons_district',\n",
       "       'local_authority_highway', 'first_road_class', 'first_road_number',\n",
       "       'road_type', 'speed_limit', 'junction_detail', 'junction_control',\n",
       "       'second_road_class', 'second_road_number',\n",
       "       'pedestrian_crossing_human_control',\n",
       "       'pedestrian_crossing_physical_facilities', 'light_conditions',\n",
       "       'weather_conditions', 'road_surface_conditions',\n",
       "       'special_conditions_at_site', 'carriageway_hazards',\n",
       "       'urban_or_rural_area', 'did_police_officer_attend_scene_of_accident',\n",
       "       'trunk_road_flag', 'lsoa_of_accident_location'],\n",
       "      dtype='object')"
      ]
     },
     "execution_count": 31,
     "metadata": {},
     "output_type": "execute_result"
    }
   ],
   "source": [
    "DS2_Accident.columns"
   ]
  },
  {
   "cell_type": "code",
   "execution_count": 32,
   "id": "4f596726",
   "metadata": {},
   "outputs": [
    {
     "data": {
      "text/plain": [
       "(48283, 37)"
      ]
     },
     "execution_count": 32,
     "metadata": {},
     "output_type": "execute_result"
    }
   ],
   "source": [
    "# To know about size of our dataset.\n",
    "DS2_Accident.shape"
   ]
  },
  {
   "cell_type": "code",
   "execution_count": 33,
   "id": "aac117da",
   "metadata": {},
   "outputs": [
    {
     "name": "stdout",
     "output_type": "stream",
     "text": [
      "<class 'pandas.core.frame.DataFrame'>\n",
      "RangeIndex: 61352 entries, 0 to 61351\n",
      "Data columns (total 20 columns):\n",
      " #   Column                              Non-Null Count  Dtype \n",
      "---  ------                              --------------  ----- \n",
      " 0   status                              61352 non-null  object\n",
      " 1   accident_index                      61352 non-null  object\n",
      " 2   accident_year                       61352 non-null  int64 \n",
      " 3   accident_reference                  61352 non-null  object\n",
      " 4   vehicle_reference                   61352 non-null  int64 \n",
      " 5   casualty_reference                  61352 non-null  int64 \n",
      " 6   casualty_class                      61352 non-null  int64 \n",
      " 7   sex_of_casualty                     61352 non-null  int64 \n",
      " 8   age_of_casualty                     61352 non-null  int64 \n",
      " 9   age_band_of_casualty                61352 non-null  int64 \n",
      " 10  casualty_severity                   61352 non-null  int64 \n",
      " 11  pedestrian_location                 61352 non-null  int64 \n",
      " 12  pedestrian_movement                 61352 non-null  int64 \n",
      " 13  car_passenger                       61352 non-null  int64 \n",
      " 14  bus_or_coach_passenger              61352 non-null  int64 \n",
      " 15  pedestrian_road_maintenance_worker  61352 non-null  int64 \n",
      " 16  casualty_type                       61352 non-null  int64 \n",
      " 17  casualty_home_area_type             61352 non-null  int64 \n",
      " 18  casualty_imd_decile                 61352 non-null  int64 \n",
      " 19  lsoa_of_casualty                    61352 non-null  object\n",
      "dtypes: int64(16), object(4)\n",
      "memory usage: 9.4+ MB\n"
     ]
    }
   ],
   "source": [
    "DS1_Casualty.info()"
   ]
  },
  {
   "cell_type": "markdown",
   "id": "282439f4",
   "metadata": {},
   "source": [
    "# Merging datasets\n",
    "We can combine two datasets using various type of functions in Python for instance, merge, join and concat.\n",
    "In our example we are planning to use merge is joining two datasets and inner: combine the two sets of information by using their shared identifiers and default column for combination is based on the accident_reference. Once we combined the datasets the will commence working on data cleaning and data correction type."
   ]
  },
  {
   "cell_type": "code",
   "execution_count": 34,
   "id": "2975cda6",
   "metadata": {},
   "outputs": [
    {
     "data": {
      "text/html": [
       "<div>\n",
       "<style scoped>\n",
       "    .dataframe tbody tr th:only-of-type {\n",
       "        vertical-align: middle;\n",
       "    }\n",
       "\n",
       "    .dataframe tbody tr th {\n",
       "        vertical-align: top;\n",
       "    }\n",
       "\n",
       "    .dataframe thead th {\n",
       "        text-align: right;\n",
       "    }\n",
       "</style>\n",
       "<table border=\"1\" class=\"dataframe\">\n",
       "  <thead>\n",
       "    <tr style=\"text-align: right;\">\n",
       "      <th></th>\n",
       "      <th>status_x</th>\n",
       "      <th>accident_index_x</th>\n",
       "      <th>accident_year_x</th>\n",
       "      <th>accident_reference</th>\n",
       "      <th>vehicle_reference</th>\n",
       "      <th>casualty_reference</th>\n",
       "      <th>casualty_class</th>\n",
       "      <th>sex_of_casualty</th>\n",
       "      <th>age_of_casualty</th>\n",
       "      <th>age_band_of_casualty</th>\n",
       "      <th>...</th>\n",
       "      <th>pedestrian_crossing_physical_facilities</th>\n",
       "      <th>light_conditions</th>\n",
       "      <th>weather_conditions</th>\n",
       "      <th>road_surface_conditions</th>\n",
       "      <th>special_conditions_at_site</th>\n",
       "      <th>carriageway_hazards</th>\n",
       "      <th>urban_or_rural_area</th>\n",
       "      <th>did_police_officer_attend_scene_of_accident</th>\n",
       "      <th>trunk_road_flag</th>\n",
       "      <th>lsoa_of_accident_location</th>\n",
       "    </tr>\n",
       "  </thead>\n",
       "  <tbody>\n",
       "    <tr>\n",
       "      <th>0</th>\n",
       "      <td>Unvalidated</td>\n",
       "      <td>2022070151244</td>\n",
       "      <td>2022</td>\n",
       "      <td>070151244</td>\n",
       "      <td>2</td>\n",
       "      <td>1</td>\n",
       "      <td>1</td>\n",
       "      <td>2</td>\n",
       "      <td>46</td>\n",
       "      <td>8</td>\n",
       "      <td>...</td>\n",
       "      <td>0</td>\n",
       "      <td>1</td>\n",
       "      <td>2</td>\n",
       "      <td>2</td>\n",
       "      <td>0</td>\n",
       "      <td>0</td>\n",
       "      <td>-1</td>\n",
       "      <td>2</td>\n",
       "      <td>-1</td>\n",
       "      <td>E01018369</td>\n",
       "    </tr>\n",
       "    <tr>\n",
       "      <th>1</th>\n",
       "      <td>Unvalidated</td>\n",
       "      <td>2022070152668</td>\n",
       "      <td>2022</td>\n",
       "      <td>070152668</td>\n",
       "      <td>1</td>\n",
       "      <td>1</td>\n",
       "      <td>1</td>\n",
       "      <td>1</td>\n",
       "      <td>30</td>\n",
       "      <td>6</td>\n",
       "      <td>...</td>\n",
       "      <td>0</td>\n",
       "      <td>4</td>\n",
       "      <td>2</td>\n",
       "      <td>2</td>\n",
       "      <td>0</td>\n",
       "      <td>0</td>\n",
       "      <td>-1</td>\n",
       "      <td>1</td>\n",
       "      <td>-1</td>\n",
       "      <td>E01018553</td>\n",
       "    </tr>\n",
       "    <tr>\n",
       "      <th>2</th>\n",
       "      <td>Unvalidated</td>\n",
       "      <td>2022070154696</td>\n",
       "      <td>2022</td>\n",
       "      <td>070154696</td>\n",
       "      <td>1</td>\n",
       "      <td>1</td>\n",
       "      <td>1</td>\n",
       "      <td>2</td>\n",
       "      <td>58</td>\n",
       "      <td>9</td>\n",
       "      <td>...</td>\n",
       "      <td>0</td>\n",
       "      <td>1</td>\n",
       "      <td>1</td>\n",
       "      <td>1</td>\n",
       "      <td>0</td>\n",
       "      <td>0</td>\n",
       "      <td>-1</td>\n",
       "      <td>1</td>\n",
       "      <td>-1</td>\n",
       "      <td>E01012448</td>\n",
       "    </tr>\n",
       "    <tr>\n",
       "      <th>3</th>\n",
       "      <td>Unvalidated</td>\n",
       "      <td>2022070154696</td>\n",
       "      <td>2022</td>\n",
       "      <td>070154696</td>\n",
       "      <td>2</td>\n",
       "      <td>3</td>\n",
       "      <td>1</td>\n",
       "      <td>2</td>\n",
       "      <td>78</td>\n",
       "      <td>11</td>\n",
       "      <td>...</td>\n",
       "      <td>0</td>\n",
       "      <td>1</td>\n",
       "      <td>1</td>\n",
       "      <td>1</td>\n",
       "      <td>0</td>\n",
       "      <td>0</td>\n",
       "      <td>-1</td>\n",
       "      <td>1</td>\n",
       "      <td>-1</td>\n",
       "      <td>E01012448</td>\n",
       "    </tr>\n",
       "    <tr>\n",
       "      <th>4</th>\n",
       "      <td>Unvalidated</td>\n",
       "      <td>2022070154696</td>\n",
       "      <td>2022</td>\n",
       "      <td>070154696</td>\n",
       "      <td>3</td>\n",
       "      <td>2</td>\n",
       "      <td>1</td>\n",
       "      <td>1</td>\n",
       "      <td>63</td>\n",
       "      <td>9</td>\n",
       "      <td>...</td>\n",
       "      <td>0</td>\n",
       "      <td>1</td>\n",
       "      <td>1</td>\n",
       "      <td>1</td>\n",
       "      <td>0</td>\n",
       "      <td>0</td>\n",
       "      <td>-1</td>\n",
       "      <td>1</td>\n",
       "      <td>-1</td>\n",
       "      <td>E01012448</td>\n",
       "    </tr>\n",
       "  </tbody>\n",
       "</table>\n",
       "<p>5 rows × 56 columns</p>\n",
       "</div>"
      ],
      "text/plain": [
       "      status_x accident_index_x  accident_year_x accident_reference  \\\n",
       "0  Unvalidated    2022070151244             2022          070151244   \n",
       "1  Unvalidated    2022070152668             2022          070152668   \n",
       "2  Unvalidated    2022070154696             2022          070154696   \n",
       "3  Unvalidated    2022070154696             2022          070154696   \n",
       "4  Unvalidated    2022070154696             2022          070154696   \n",
       "\n",
       "   vehicle_reference  casualty_reference  casualty_class  sex_of_casualty  \\\n",
       "0                  2                   1               1                2   \n",
       "1                  1                   1               1                1   \n",
       "2                  1                   1               1                2   \n",
       "3                  2                   3               1                2   \n",
       "4                  3                   2               1                1   \n",
       "\n",
       "   age_of_casualty  age_band_of_casualty  ...  \\\n",
       "0               46                     8  ...   \n",
       "1               30                     6  ...   \n",
       "2               58                     9  ...   \n",
       "3               78                    11  ...   \n",
       "4               63                     9  ...   \n",
       "\n",
       "   pedestrian_crossing_physical_facilities  light_conditions  \\\n",
       "0                                        0                 1   \n",
       "1                                        0                 4   \n",
       "2                                        0                 1   \n",
       "3                                        0                 1   \n",
       "4                                        0                 1   \n",
       "\n",
       "   weather_conditions  road_surface_conditions  special_conditions_at_site  \\\n",
       "0                   2                        2                           0   \n",
       "1                   2                        2                           0   \n",
       "2                   1                        1                           0   \n",
       "3                   1                        1                           0   \n",
       "4                   1                        1                           0   \n",
       "\n",
       "   carriageway_hazards  urban_or_rural_area  \\\n",
       "0                    0                   -1   \n",
       "1                    0                   -1   \n",
       "2                    0                   -1   \n",
       "3                    0                   -1   \n",
       "4                    0                   -1   \n",
       "\n",
       "   did_police_officer_attend_scene_of_accident  trunk_road_flag  \\\n",
       "0                                            2               -1   \n",
       "1                                            1               -1   \n",
       "2                                            1               -1   \n",
       "3                                            1               -1   \n",
       "4                                            1               -1   \n",
       "\n",
       "  lsoa_of_accident_location  \n",
       "0                 E01018369  \n",
       "1                 E01018553  \n",
       "2                 E01012448  \n",
       "3                 E01012448  \n",
       "4                 E01012448  \n",
       "\n",
       "[5 rows x 56 columns]"
      ]
     },
     "execution_count": 34,
     "metadata": {},
     "output_type": "execute_result"
    }
   ],
   "source": [
    "#Merging Accident and Casualty Dataset\n",
    "DS1_DS2 = pd.merge(DS1_Casualty,DS2_Accident, on='accident_reference', how='inner')\n",
    "DS1_DS2.head()"
   ]
  },
  {
   "cell_type": "code",
   "execution_count": 35,
   "id": "6bbc4e7e",
   "metadata": {},
   "outputs": [
    {
     "data": {
      "text/plain": [
       "(61352, 56)"
      ]
     },
     "execution_count": 35,
     "metadata": {},
     "output_type": "execute_result"
    }
   ],
   "source": [
    "# Showing the size of our two datasets after combination.\n",
    "DS1_DS2.shape"
   ]
  },
  {
   "cell_type": "code",
   "execution_count": 36,
   "id": "a0ed1733",
   "metadata": {},
   "outputs": [
    {
     "name": "stdout",
     "output_type": "stream",
     "text": [
      "<class 'pandas.core.frame.DataFrame'>\n",
      "Int64Index: 61352 entries, 0 to 61351\n",
      "Data columns (total 56 columns):\n",
      " #   Column                                       Non-Null Count  Dtype  \n",
      "---  ------                                       --------------  -----  \n",
      " 0   status_x                                     61352 non-null  object \n",
      " 1   accident_index_x                             61352 non-null  object \n",
      " 2   accident_year_x                              61352 non-null  int64  \n",
      " 3   accident_reference                           61352 non-null  object \n",
      " 4   vehicle_reference                            61352 non-null  int64  \n",
      " 5   casualty_reference                           61352 non-null  int64  \n",
      " 6   casualty_class                               61352 non-null  int64  \n",
      " 7   sex_of_casualty                              61352 non-null  int64  \n",
      " 8   age_of_casualty                              61352 non-null  int64  \n",
      " 9   age_band_of_casualty                         61352 non-null  int64  \n",
      " 10  casualty_severity                            61352 non-null  int64  \n",
      " 11  pedestrian_location                          61352 non-null  int64  \n",
      " 12  pedestrian_movement                          61352 non-null  int64  \n",
      " 13  car_passenger                                61352 non-null  int64  \n",
      " 14  bus_or_coach_passenger                       61352 non-null  int64  \n",
      " 15  pedestrian_road_maintenance_worker           61352 non-null  int64  \n",
      " 16  casualty_type                                61352 non-null  int64  \n",
      " 17  casualty_home_area_type                      61352 non-null  int64  \n",
      " 18  casualty_imd_decile                          61352 non-null  int64  \n",
      " 19  lsoa_of_casualty                             61352 non-null  object \n",
      " 20  status_y                                     61352 non-null  object \n",
      " 21  accident_index_y                             61352 non-null  object \n",
      " 22  accident_year_y                              61352 non-null  int64  \n",
      " 23  location_easting_osgr                        60725 non-null  float64\n",
      " 24  location_northing_osgr                       60725 non-null  float64\n",
      " 25  longitude                                    0 non-null      float64\n",
      " 26  latitude                                     0 non-null      float64\n",
      " 27  police_force                                 61352 non-null  int64  \n",
      " 28  accident_severity                            61352 non-null  int64  \n",
      " 29  number_of_vehicles                           61352 non-null  int64  \n",
      " 30  number_of_casualties                         61352 non-null  int64  \n",
      " 31  date                                         61352 non-null  object \n",
      " 32  day_of_week                                  61352 non-null  int64  \n",
      " 33  time                                         61352 non-null  object \n",
      " 34  local_authority_district                     61352 non-null  int64  \n",
      " 35  local_authority_ons_district                 61352 non-null  object \n",
      " 36  local_authority_highway                      61352 non-null  object \n",
      " 37  first_road_class                             61352 non-null  int64  \n",
      " 38  first_road_number                            61352 non-null  int64  \n",
      " 39  road_type                                    61352 non-null  int64  \n",
      " 40  speed_limit                                  61352 non-null  int64  \n",
      " 41  junction_detail                              61352 non-null  int64  \n",
      " 42  junction_control                             61352 non-null  int64  \n",
      " 43  second_road_class                            61352 non-null  int64  \n",
      " 44  second_road_number                           61352 non-null  int64  \n",
      " 45  pedestrian_crossing_human_control            61352 non-null  int64  \n",
      " 46  pedestrian_crossing_physical_facilities      61352 non-null  int64  \n",
      " 47  light_conditions                             61352 non-null  int64  \n",
      " 48  weather_conditions                           61352 non-null  int64  \n",
      " 49  road_surface_conditions                      61352 non-null  int64  \n",
      " 50  special_conditions_at_site                   61352 non-null  int64  \n",
      " 51  carriageway_hazards                          61352 non-null  int64  \n",
      " 52  urban_or_rural_area                          61352 non-null  int64  \n",
      " 53  did_police_officer_attend_scene_of_accident  61352 non-null  int64  \n",
      " 54  trunk_road_flag                              61352 non-null  int64  \n",
      " 55  lsoa_of_accident_location                    61352 non-null  object \n",
      "dtypes: float64(4), int64(41), object(11)\n",
      "memory usage: 26.7+ MB\n"
     ]
    }
   ],
   "source": [
    "# Information regarding with both datasets.\n",
    "DS1_DS2.info()"
   ]
  },
  {
   "cell_type": "code",
   "execution_count": 37,
   "id": "1b00c53f",
   "metadata": {},
   "outputs": [
    {
     "data": {
      "text/html": [
       "<div>\n",
       "<style scoped>\n",
       "    .dataframe tbody tr th:only-of-type {\n",
       "        vertical-align: middle;\n",
       "    }\n",
       "\n",
       "    .dataframe tbody tr th {\n",
       "        vertical-align: top;\n",
       "    }\n",
       "\n",
       "    .dataframe thead th {\n",
       "        text-align: right;\n",
       "    }\n",
       "</style>\n",
       "<table border=\"1\" class=\"dataframe\">\n",
       "  <thead>\n",
       "    <tr style=\"text-align: right;\">\n",
       "      <th></th>\n",
       "      <th>accident_year_x</th>\n",
       "      <th>vehicle_reference</th>\n",
       "      <th>casualty_reference</th>\n",
       "      <th>casualty_class</th>\n",
       "      <th>sex_of_casualty</th>\n",
       "      <th>age_of_casualty</th>\n",
       "      <th>age_band_of_casualty</th>\n",
       "      <th>casualty_severity</th>\n",
       "      <th>pedestrian_location</th>\n",
       "      <th>pedestrian_movement</th>\n",
       "      <th>...</th>\n",
       "      <th>pedestrian_crossing_human_control</th>\n",
       "      <th>pedestrian_crossing_physical_facilities</th>\n",
       "      <th>light_conditions</th>\n",
       "      <th>weather_conditions</th>\n",
       "      <th>road_surface_conditions</th>\n",
       "      <th>special_conditions_at_site</th>\n",
       "      <th>carriageway_hazards</th>\n",
       "      <th>urban_or_rural_area</th>\n",
       "      <th>did_police_officer_attend_scene_of_accident</th>\n",
       "      <th>trunk_road_flag</th>\n",
       "    </tr>\n",
       "  </thead>\n",
       "  <tbody>\n",
       "    <tr>\n",
       "      <th>count</th>\n",
       "      <td>61352.0</td>\n",
       "      <td>61352.000000</td>\n",
       "      <td>61352.000000</td>\n",
       "      <td>61352.000000</td>\n",
       "      <td>61352.000000</td>\n",
       "      <td>61352.000000</td>\n",
       "      <td>61352.000000</td>\n",
       "      <td>61352.000000</td>\n",
       "      <td>61352.000000</td>\n",
       "      <td>61352.000000</td>\n",
       "      <td>...</td>\n",
       "      <td>61352.000000</td>\n",
       "      <td>61352.000000</td>\n",
       "      <td>61352.000000</td>\n",
       "      <td>61352.000000</td>\n",
       "      <td>61352.000000</td>\n",
       "      <td>61352.000000</td>\n",
       "      <td>61352.000000</td>\n",
       "      <td>61352.0</td>\n",
       "      <td>61352.000000</td>\n",
       "      <td>61352.0</td>\n",
       "    </tr>\n",
       "    <tr>\n",
       "      <th>mean</th>\n",
       "      <td>2022.0</td>\n",
       "      <td>1.450368</td>\n",
       "      <td>1.333779</td>\n",
       "      <td>1.482299</td>\n",
       "      <td>1.368790</td>\n",
       "      <td>36.670312</td>\n",
       "      <td>6.288157</td>\n",
       "      <td>2.783039</td>\n",
       "      <td>0.800316</td>\n",
       "      <td>0.645325</td>\n",
       "      <td>...</td>\n",
       "      <td>0.312394</td>\n",
       "      <td>1.081709</td>\n",
       "      <td>1.974638</td>\n",
       "      <td>1.604055</td>\n",
       "      <td>1.295638</td>\n",
       "      <td>0.223155</td>\n",
       "      <td>0.176164</td>\n",
       "      <td>-1.0</td>\n",
       "      <td>1.438991</td>\n",
       "      <td>-1.0</td>\n",
       "    </tr>\n",
       "    <tr>\n",
       "      <th>std</th>\n",
       "      <td>0.0</td>\n",
       "      <td>1.109855</td>\n",
       "      <td>0.981507</td>\n",
       "      <td>0.735614</td>\n",
       "      <td>0.534536</td>\n",
       "      <td>19.574357</td>\n",
       "      <td>2.463082</td>\n",
       "      <td>0.442318</td>\n",
       "      <td>2.197167</td>\n",
       "      <td>2.009611</td>\n",
       "      <td>...</td>\n",
       "      <td>1.600530</td>\n",
       "      <td>2.325199</td>\n",
       "      <td>1.677191</td>\n",
       "      <td>1.807665</td>\n",
       "      <td>0.905843</td>\n",
       "      <td>1.272146</td>\n",
       "      <td>1.156328</td>\n",
       "      <td>0.0</td>\n",
       "      <td>0.743602</td>\n",
       "      <td>0.0</td>\n",
       "    </tr>\n",
       "    <tr>\n",
       "      <th>min</th>\n",
       "      <td>2022.0</td>\n",
       "      <td>1.000000</td>\n",
       "      <td>1.000000</td>\n",
       "      <td>1.000000</td>\n",
       "      <td>-1.000000</td>\n",
       "      <td>-1.000000</td>\n",
       "      <td>-1.000000</td>\n",
       "      <td>1.000000</td>\n",
       "      <td>0.000000</td>\n",
       "      <td>0.000000</td>\n",
       "      <td>...</td>\n",
       "      <td>-1.000000</td>\n",
       "      <td>-1.000000</td>\n",
       "      <td>1.000000</td>\n",
       "      <td>1.000000</td>\n",
       "      <td>-1.000000</td>\n",
       "      <td>-1.000000</td>\n",
       "      <td>-1.000000</td>\n",
       "      <td>-1.0</td>\n",
       "      <td>-1.000000</td>\n",
       "      <td>-1.0</td>\n",
       "    </tr>\n",
       "    <tr>\n",
       "      <th>25%</th>\n",
       "      <td>2022.0</td>\n",
       "      <td>1.000000</td>\n",
       "      <td>1.000000</td>\n",
       "      <td>1.000000</td>\n",
       "      <td>1.000000</td>\n",
       "      <td>22.000000</td>\n",
       "      <td>5.000000</td>\n",
       "      <td>3.000000</td>\n",
       "      <td>0.000000</td>\n",
       "      <td>0.000000</td>\n",
       "      <td>...</td>\n",
       "      <td>0.000000</td>\n",
       "      <td>0.000000</td>\n",
       "      <td>1.000000</td>\n",
       "      <td>1.000000</td>\n",
       "      <td>1.000000</td>\n",
       "      <td>0.000000</td>\n",
       "      <td>0.000000</td>\n",
       "      <td>-1.0</td>\n",
       "      <td>1.000000</td>\n",
       "      <td>-1.0</td>\n",
       "    </tr>\n",
       "    <tr>\n",
       "      <th>50%</th>\n",
       "      <td>2022.0</td>\n",
       "      <td>1.000000</td>\n",
       "      <td>1.000000</td>\n",
       "      <td>1.000000</td>\n",
       "      <td>1.000000</td>\n",
       "      <td>34.000000</td>\n",
       "      <td>6.000000</td>\n",
       "      <td>3.000000</td>\n",
       "      <td>0.000000</td>\n",
       "      <td>0.000000</td>\n",
       "      <td>...</td>\n",
       "      <td>0.000000</td>\n",
       "      <td>0.000000</td>\n",
       "      <td>1.000000</td>\n",
       "      <td>1.000000</td>\n",
       "      <td>1.000000</td>\n",
       "      <td>0.000000</td>\n",
       "      <td>0.000000</td>\n",
       "      <td>-1.0</td>\n",
       "      <td>1.000000</td>\n",
       "      <td>-1.0</td>\n",
       "    </tr>\n",
       "    <tr>\n",
       "      <th>75%</th>\n",
       "      <td>2022.0</td>\n",
       "      <td>2.000000</td>\n",
       "      <td>1.000000</td>\n",
       "      <td>2.000000</td>\n",
       "      <td>2.000000</td>\n",
       "      <td>50.000000</td>\n",
       "      <td>8.000000</td>\n",
       "      <td>3.000000</td>\n",
       "      <td>0.000000</td>\n",
       "      <td>0.000000</td>\n",
       "      <td>...</td>\n",
       "      <td>0.000000</td>\n",
       "      <td>0.000000</td>\n",
       "      <td>4.000000</td>\n",
       "      <td>1.000000</td>\n",
       "      <td>1.000000</td>\n",
       "      <td>0.000000</td>\n",
       "      <td>0.000000</td>\n",
       "      <td>-1.0</td>\n",
       "      <td>2.000000</td>\n",
       "      <td>-1.0</td>\n",
       "    </tr>\n",
       "    <tr>\n",
       "      <th>max</th>\n",
       "      <td>2022.0</td>\n",
       "      <td>227.000000</td>\n",
       "      <td>148.000000</td>\n",
       "      <td>3.000000</td>\n",
       "      <td>9.000000</td>\n",
       "      <td>101.000000</td>\n",
       "      <td>11.000000</td>\n",
       "      <td>3.000000</td>\n",
       "      <td>10.000000</td>\n",
       "      <td>9.000000</td>\n",
       "      <td>...</td>\n",
       "      <td>9.000000</td>\n",
       "      <td>9.000000</td>\n",
       "      <td>7.000000</td>\n",
       "      <td>9.000000</td>\n",
       "      <td>9.000000</td>\n",
       "      <td>9.000000</td>\n",
       "      <td>9.000000</td>\n",
       "      <td>-1.0</td>\n",
       "      <td>3.000000</td>\n",
       "      <td>-1.0</td>\n",
       "    </tr>\n",
       "  </tbody>\n",
       "</table>\n",
       "<p>8 rows × 45 columns</p>\n",
       "</div>"
      ],
      "text/plain": [
       "       accident_year_x  vehicle_reference  casualty_reference  casualty_class  \\\n",
       "count          61352.0       61352.000000        61352.000000    61352.000000   \n",
       "mean            2022.0           1.450368            1.333779        1.482299   \n",
       "std                0.0           1.109855            0.981507        0.735614   \n",
       "min             2022.0           1.000000            1.000000        1.000000   \n",
       "25%             2022.0           1.000000            1.000000        1.000000   \n",
       "50%             2022.0           1.000000            1.000000        1.000000   \n",
       "75%             2022.0           2.000000            1.000000        2.000000   \n",
       "max             2022.0         227.000000          148.000000        3.000000   \n",
       "\n",
       "       sex_of_casualty  age_of_casualty  age_band_of_casualty  \\\n",
       "count     61352.000000     61352.000000          61352.000000   \n",
       "mean          1.368790        36.670312              6.288157   \n",
       "std           0.534536        19.574357              2.463082   \n",
       "min          -1.000000        -1.000000             -1.000000   \n",
       "25%           1.000000        22.000000              5.000000   \n",
       "50%           1.000000        34.000000              6.000000   \n",
       "75%           2.000000        50.000000              8.000000   \n",
       "max           9.000000       101.000000             11.000000   \n",
       "\n",
       "       casualty_severity  pedestrian_location  pedestrian_movement  ...  \\\n",
       "count       61352.000000         61352.000000         61352.000000  ...   \n",
       "mean            2.783039             0.800316             0.645325  ...   \n",
       "std             0.442318             2.197167             2.009611  ...   \n",
       "min             1.000000             0.000000             0.000000  ...   \n",
       "25%             3.000000             0.000000             0.000000  ...   \n",
       "50%             3.000000             0.000000             0.000000  ...   \n",
       "75%             3.000000             0.000000             0.000000  ...   \n",
       "max             3.000000            10.000000             9.000000  ...   \n",
       "\n",
       "       pedestrian_crossing_human_control  \\\n",
       "count                       61352.000000   \n",
       "mean                            0.312394   \n",
       "std                             1.600530   \n",
       "min                            -1.000000   \n",
       "25%                             0.000000   \n",
       "50%                             0.000000   \n",
       "75%                             0.000000   \n",
       "max                             9.000000   \n",
       "\n",
       "       pedestrian_crossing_physical_facilities  light_conditions  \\\n",
       "count                             61352.000000      61352.000000   \n",
       "mean                                  1.081709          1.974638   \n",
       "std                                   2.325199          1.677191   \n",
       "min                                  -1.000000          1.000000   \n",
       "25%                                   0.000000          1.000000   \n",
       "50%                                   0.000000          1.000000   \n",
       "75%                                   0.000000          4.000000   \n",
       "max                                   9.000000          7.000000   \n",
       "\n",
       "       weather_conditions  road_surface_conditions  \\\n",
       "count        61352.000000             61352.000000   \n",
       "mean             1.604055                 1.295638   \n",
       "std              1.807665                 0.905843   \n",
       "min              1.000000                -1.000000   \n",
       "25%              1.000000                 1.000000   \n",
       "50%              1.000000                 1.000000   \n",
       "75%              1.000000                 1.000000   \n",
       "max              9.000000                 9.000000   \n",
       "\n",
       "       special_conditions_at_site  carriageway_hazards  urban_or_rural_area  \\\n",
       "count                61352.000000         61352.000000              61352.0   \n",
       "mean                     0.223155             0.176164                 -1.0   \n",
       "std                      1.272146             1.156328                  0.0   \n",
       "min                     -1.000000            -1.000000                 -1.0   \n",
       "25%                      0.000000             0.000000                 -1.0   \n",
       "50%                      0.000000             0.000000                 -1.0   \n",
       "75%                      0.000000             0.000000                 -1.0   \n",
       "max                      9.000000             9.000000                 -1.0   \n",
       "\n",
       "       did_police_officer_attend_scene_of_accident  trunk_road_flag  \n",
       "count                                 61352.000000          61352.0  \n",
       "mean                                      1.438991             -1.0  \n",
       "std                                       0.743602              0.0  \n",
       "min                                      -1.000000             -1.0  \n",
       "25%                                       1.000000             -1.0  \n",
       "50%                                       1.000000             -1.0  \n",
       "75%                                       2.000000             -1.0  \n",
       "max                                       3.000000             -1.0  \n",
       "\n",
       "[8 rows x 45 columns]"
      ]
     },
     "execution_count": 37,
     "metadata": {},
     "output_type": "execute_result"
    }
   ],
   "source": [
    "DS1_DS2.describe()"
   ]
  },
  {
   "cell_type": "code",
   "execution_count": 38,
   "id": "2296806b",
   "metadata": {},
   "outputs": [
    {
     "data": {
      "text/plain": [
       "8"
      ]
     },
     "execution_count": 38,
     "metadata": {},
     "output_type": "execute_result"
    }
   ],
   "source": [
    "len(DS1_DS2.describe())"
   ]
  },
  {
   "cell_type": "code",
   "execution_count": 39,
   "id": "b02f3378",
   "metadata": {},
   "outputs": [
    {
     "data": {
      "text/plain": [
       "latitude                                       100.000000\n",
       "longitude                                      100.000000\n",
       "location_northing_osgr                           1.021972\n",
       "location_easting_osgr                            1.021972\n",
       "status_x                                         0.000000\n",
       "number_of_casualties                             0.000000\n",
       "day_of_week                                      0.000000\n",
       "time                                             0.000000\n",
       "local_authority_district                         0.000000\n",
       "local_authority_ons_district                     0.000000\n",
       "local_authority_highway                          0.000000\n",
       "first_road_class                                 0.000000\n",
       "first_road_number                                0.000000\n",
       "road_type                                        0.000000\n",
       "speed_limit                                      0.000000\n",
       "junction_detail                                  0.000000\n",
       "junction_control                                 0.000000\n",
       "second_road_class                                0.000000\n",
       "second_road_number                               0.000000\n",
       "pedestrian_crossing_human_control                0.000000\n",
       "pedestrian_crossing_physical_facilities          0.000000\n",
       "light_conditions                                 0.000000\n",
       "weather_conditions                               0.000000\n",
       "road_surface_conditions                          0.000000\n",
       "special_conditions_at_site                       0.000000\n",
       "carriageway_hazards                              0.000000\n",
       "urban_or_rural_area                              0.000000\n",
       "did_police_officer_attend_scene_of_accident      0.000000\n",
       "trunk_road_flag                                  0.000000\n",
       "date                                             0.000000\n",
       "accident_severity                                0.000000\n",
       "number_of_vehicles                               0.000000\n",
       "pedestrian_movement                              0.000000\n",
       "accident_year_x                                  0.000000\n",
       "accident_reference                               0.000000\n",
       "vehicle_reference                                0.000000\n",
       "casualty_reference                               0.000000\n",
       "casualty_class                                   0.000000\n",
       "sex_of_casualty                                  0.000000\n",
       "age_of_casualty                                  0.000000\n",
       "age_band_of_casualty                             0.000000\n",
       "casualty_severity                                0.000000\n",
       "pedestrian_location                              0.000000\n",
       "car_passenger                                    0.000000\n",
       "accident_index_x                                 0.000000\n",
       "bus_or_coach_passenger                           0.000000\n",
       "pedestrian_road_maintenance_worker               0.000000\n",
       "casualty_type                                    0.000000\n",
       "casualty_home_area_type                          0.000000\n",
       "casualty_imd_decile                              0.000000\n",
       "lsoa_of_casualty                                 0.000000\n",
       "status_y                                         0.000000\n",
       "accident_index_y                                 0.000000\n",
       "accident_year_y                                  0.000000\n",
       "police_force                                     0.000000\n",
       "lsoa_of_accident_location                        0.000000\n",
       "dtype: float64"
      ]
     },
     "execution_count": 39,
     "metadata": {},
     "output_type": "execute_result"
    }
   ],
   "source": [
    "Datainfo = DS1_DS2.isna().sum().sort_values(ascending=False)*100/len(DS1_DS2)\n",
    "Datainfo"
   ]
  },
  {
   "cell_type": "code",
   "execution_count": 45,
   "id": "9141bb33",
   "metadata": {},
   "outputs": [
    {
     "data": {
      "text/plain": [
       "<AxesSubplot:>"
      ]
     },
     "execution_count": 45,
     "metadata": {},
     "output_type": "execute_result"
    },
    {
     "data": {
      "image/png": "[encoded data removed]",
      "text/plain": [
       "<Figure size 432x288 with 1 Axes>"
      ]
     },
     "metadata": {},
     "output_type": "display_data"
    }
   ],
   "source": [
    "import seaborn as sns\n",
    "sns.set_style(\"darkgrid\")\n",
    "Datainfo[Datainfo>0].plot(kind='barh') "
   ]
  },
  {
   "cell_type": "markdown",
   "id": "37bbb2fd",
   "metadata": {},
   "source": [
    "# Selecting Explorartoy Variables for our model"
   ]
  },
  {
   "cell_type": "code",
   "execution_count": 46,
   "id": "22271534",
   "metadata": {},
   "outputs": [
    {
     "data": {
      "text/html": [
       "<div>\n",
       "<style scoped>\n",
       "    .dataframe tbody tr th:only-of-type {\n",
       "        vertical-align: middle;\n",
       "    }\n",
       "\n",
       "    .dataframe tbody tr th {\n",
       "        vertical-align: top;\n",
       "    }\n",
       "\n",
       "    .dataframe thead th {\n",
       "        text-align: right;\n",
       "    }\n",
       "</style>\n",
       "<table border=\"1\" class=\"dataframe\">\n",
       "  <thead>\n",
       "    <tr style=\"text-align: right;\">\n",
       "      <th></th>\n",
       "      <th>casualty_severity</th>\n",
       "      <th>vehicle_reference</th>\n",
       "      <th>casualty_class</th>\n",
       "      <th>casualty_reference</th>\n",
       "      <th>sex_of_casualty</th>\n",
       "      <th>age_of_casualty</th>\n",
       "      <th>number_of_casualties</th>\n",
       "      <th>speed_limit</th>\n",
       "      <th>car_passenger</th>\n",
       "      <th>did_police_officer_attend_scene_of_accident</th>\n",
       "      <th>light_conditions</th>\n",
       "      <th>weather_conditions</th>\n",
       "      <th>road_surface_conditions</th>\n",
       "      <th>accident_severity</th>\n",
       "    </tr>\n",
       "  </thead>\n",
       "  <tbody>\n",
       "    <tr>\n",
       "      <th>0</th>\n",
       "      <td>3</td>\n",
       "      <td>2</td>\n",
       "      <td>1</td>\n",
       "      <td>1</td>\n",
       "      <td>2</td>\n",
       "      <td>46</td>\n",
       "      <td>1</td>\n",
       "      <td>60</td>\n",
       "      <td>0</td>\n",
       "      <td>2</td>\n",
       "      <td>1</td>\n",
       "      <td>2</td>\n",
       "      <td>2</td>\n",
       "      <td>3</td>\n",
       "    </tr>\n",
       "    <tr>\n",
       "      <th>1</th>\n",
       "      <td>3</td>\n",
       "      <td>1</td>\n",
       "      <td>1</td>\n",
       "      <td>1</td>\n",
       "      <td>1</td>\n",
       "      <td>30</td>\n",
       "      <td>1</td>\n",
       "      <td>30</td>\n",
       "      <td>0</td>\n",
       "      <td>1</td>\n",
       "      <td>4</td>\n",
       "      <td>2</td>\n",
       "      <td>2</td>\n",
       "      <td>3</td>\n",
       "    </tr>\n",
       "    <tr>\n",
       "      <th>2</th>\n",
       "      <td>3</td>\n",
       "      <td>1</td>\n",
       "      <td>1</td>\n",
       "      <td>1</td>\n",
       "      <td>2</td>\n",
       "      <td>58</td>\n",
       "      <td>6</td>\n",
       "      <td>70</td>\n",
       "      <td>0</td>\n",
       "      <td>1</td>\n",
       "      <td>1</td>\n",
       "      <td>1</td>\n",
       "      <td>1</td>\n",
       "      <td>3</td>\n",
       "    </tr>\n",
       "    <tr>\n",
       "      <th>3</th>\n",
       "      <td>3</td>\n",
       "      <td>2</td>\n",
       "      <td>1</td>\n",
       "      <td>3</td>\n",
       "      <td>2</td>\n",
       "      <td>78</td>\n",
       "      <td>6</td>\n",
       "      <td>70</td>\n",
       "      <td>0</td>\n",
       "      <td>1</td>\n",
       "      <td>1</td>\n",
       "      <td>1</td>\n",
       "      <td>1</td>\n",
       "      <td>3</td>\n",
       "    </tr>\n",
       "    <tr>\n",
       "      <th>4</th>\n",
       "      <td>3</td>\n",
       "      <td>3</td>\n",
       "      <td>1</td>\n",
       "      <td>2</td>\n",
       "      <td>1</td>\n",
       "      <td>63</td>\n",
       "      <td>6</td>\n",
       "      <td>70</td>\n",
       "      <td>0</td>\n",
       "      <td>1</td>\n",
       "      <td>1</td>\n",
       "      <td>1</td>\n",
       "      <td>1</td>\n",
       "      <td>3</td>\n",
       "    </tr>\n",
       "  </tbody>\n",
       "</table>\n",
       "</div>"
      ],
      "text/plain": [
       "   casualty_severity  vehicle_reference  casualty_class  casualty_reference  \\\n",
       "0                  3                  2               1                   1   \n",
       "1                  3                  1               1                   1   \n",
       "2                  3                  1               1                   1   \n",
       "3                  3                  2               1                   3   \n",
       "4                  3                  3               1                   2   \n",
       "\n",
       "   sex_of_casualty  age_of_casualty  number_of_casualties  speed_limit  \\\n",
       "0                2               46                     1           60   \n",
       "1                1               30                     1           30   \n",
       "2                2               58                     6           70   \n",
       "3                2               78                     6           70   \n",
       "4                1               63                     6           70   \n",
       "\n",
       "   car_passenger  did_police_officer_attend_scene_of_accident  \\\n",
       "0              0                                            2   \n",
       "1              0                                            1   \n",
       "2              0                                            1   \n",
       "3              0                                            1   \n",
       "4              0                                            1   \n",
       "\n",
       "   light_conditions  weather_conditions  road_surface_conditions  \\\n",
       "0                 1                   2                        2   \n",
       "1                 4                   2                        2   \n",
       "2                 1                   1                        1   \n",
       "3                 1                   1                        1   \n",
       "4                 1                   1                        1   \n",
       "\n",
       "   accident_severity  \n",
       "0                  3  \n",
       "1                  3  \n",
       "2                  3  \n",
       "3                  3  \n",
       "4                  3  "
      ]
     },
     "execution_count": 46,
     "metadata": {},
     "output_type": "execute_result"
    }
   ],
   "source": [
    "DS1_DS2.head()"
   ]
  },
  {
   "cell_type": "code",
   "execution_count": 47,
   "id": "b8905786",
   "metadata": {},
   "outputs": [
    {
     "data": {
      "text/plain": [
       "(61352, 14)"
      ]
     },
     "execution_count": 47,
     "metadata": {},
     "output_type": "execute_result"
    }
   ],
   "source": [
    "DS1_DS2 = DS1_DS2.loc[:,['casualty_severity','vehicle_reference','casualty_class','casualty_reference','sex_of_casualty',\n",
    "'age_of_casualty','number_of_casualties','speed_limit','car_passenger',\n",
    "'did_police_officer_attend_scene_of_accident','light_conditions','weather_conditions',\n",
    "'road_surface_conditions','accident_severity',]]\n",
    "\n",
    "DS1_DS2.drop_duplicates(subset=None, keep='first', inplace=False, ignore_index=False)\n",
    "\n",
    "DS1_DS2.shape"
   ]
  },
  {
   "cell_type": "markdown",
   "id": "1bd2a690",
   "metadata": {},
   "source": [
    "for reference https://pandas.pydata.org/docs/reference/api/pandas.DataFrame.drop_duplicates.html"
   ]
  },
  {
   "cell_type": "code",
   "execution_count": 48,
   "id": "be5c4f4e",
   "metadata": {},
   "outputs": [
    {
     "data": {
      "text/html": [
       "<div>\n",
       "<style scoped>\n",
       "    .dataframe tbody tr th:only-of-type {\n",
       "        vertical-align: middle;\n",
       "    }\n",
       "\n",
       "    .dataframe tbody tr th {\n",
       "        vertical-align: top;\n",
       "    }\n",
       "\n",
       "    .dataframe thead th {\n",
       "        text-align: right;\n",
       "    }\n",
       "</style>\n",
       "<table border=\"1\" class=\"dataframe\">\n",
       "  <thead>\n",
       "    <tr style=\"text-align: right;\">\n",
       "      <th></th>\n",
       "      <th>casualty_severity</th>\n",
       "      <th>vehicle_reference</th>\n",
       "      <th>casualty_class</th>\n",
       "      <th>casualty_reference</th>\n",
       "      <th>sex_of_casualty</th>\n",
       "      <th>age_of_casualty</th>\n",
       "      <th>number_of_casualties</th>\n",
       "      <th>speed_limit</th>\n",
       "      <th>car_passenger</th>\n",
       "      <th>did_police_officer_attend_scene_of_accident</th>\n",
       "      <th>light_conditions</th>\n",
       "      <th>weather_conditions</th>\n",
       "      <th>road_surface_conditions</th>\n",
       "      <th>accident_severity</th>\n",
       "    </tr>\n",
       "  </thead>\n",
       "  <tbody>\n",
       "    <tr>\n",
       "      <th>0</th>\n",
       "      <td>3</td>\n",
       "      <td>2</td>\n",
       "      <td>1</td>\n",
       "      <td>1</td>\n",
       "      <td>2</td>\n",
       "      <td>46</td>\n",
       "      <td>1</td>\n",
       "      <td>60</td>\n",
       "      <td>0</td>\n",
       "      <td>2</td>\n",
       "      <td>1</td>\n",
       "      <td>2</td>\n",
       "      <td>2</td>\n",
       "      <td>3</td>\n",
       "    </tr>\n",
       "    <tr>\n",
       "      <th>1</th>\n",
       "      <td>3</td>\n",
       "      <td>1</td>\n",
       "      <td>1</td>\n",
       "      <td>1</td>\n",
       "      <td>1</td>\n",
       "      <td>30</td>\n",
       "      <td>1</td>\n",
       "      <td>30</td>\n",
       "      <td>0</td>\n",
       "      <td>1</td>\n",
       "      <td>4</td>\n",
       "      <td>2</td>\n",
       "      <td>2</td>\n",
       "      <td>3</td>\n",
       "    </tr>\n",
       "    <tr>\n",
       "      <th>2</th>\n",
       "      <td>3</td>\n",
       "      <td>1</td>\n",
       "      <td>1</td>\n",
       "      <td>1</td>\n",
       "      <td>2</td>\n",
       "      <td>58</td>\n",
       "      <td>6</td>\n",
       "      <td>70</td>\n",
       "      <td>0</td>\n",
       "      <td>1</td>\n",
       "      <td>1</td>\n",
       "      <td>1</td>\n",
       "      <td>1</td>\n",
       "      <td>3</td>\n",
       "    </tr>\n",
       "    <tr>\n",
       "      <th>3</th>\n",
       "      <td>3</td>\n",
       "      <td>2</td>\n",
       "      <td>1</td>\n",
       "      <td>3</td>\n",
       "      <td>2</td>\n",
       "      <td>78</td>\n",
       "      <td>6</td>\n",
       "      <td>70</td>\n",
       "      <td>0</td>\n",
       "      <td>1</td>\n",
       "      <td>1</td>\n",
       "      <td>1</td>\n",
       "      <td>1</td>\n",
       "      <td>3</td>\n",
       "    </tr>\n",
       "    <tr>\n",
       "      <th>4</th>\n",
       "      <td>3</td>\n",
       "      <td>3</td>\n",
       "      <td>1</td>\n",
       "      <td>2</td>\n",
       "      <td>1</td>\n",
       "      <td>63</td>\n",
       "      <td>6</td>\n",
       "      <td>70</td>\n",
       "      <td>0</td>\n",
       "      <td>1</td>\n",
       "      <td>1</td>\n",
       "      <td>1</td>\n",
       "      <td>1</td>\n",
       "      <td>3</td>\n",
       "    </tr>\n",
       "  </tbody>\n",
       "</table>\n",
       "</div>"
      ],
      "text/plain": [
       "   casualty_severity  vehicle_reference  casualty_class  casualty_reference  \\\n",
       "0                  3                  2               1                   1   \n",
       "1                  3                  1               1                   1   \n",
       "2                  3                  1               1                   1   \n",
       "3                  3                  2               1                   3   \n",
       "4                  3                  3               1                   2   \n",
       "\n",
       "   sex_of_casualty  age_of_casualty  number_of_casualties  speed_limit  \\\n",
       "0                2               46                     1           60   \n",
       "1                1               30                     1           30   \n",
       "2                2               58                     6           70   \n",
       "3                2               78                     6           70   \n",
       "4                1               63                     6           70   \n",
       "\n",
       "   car_passenger  did_police_officer_attend_scene_of_accident  \\\n",
       "0              0                                            2   \n",
       "1              0                                            1   \n",
       "2              0                                            1   \n",
       "3              0                                            1   \n",
       "4              0                                            1   \n",
       "\n",
       "   light_conditions  weather_conditions  road_surface_conditions  \\\n",
       "0                 1                   2                        2   \n",
       "1                 4                   2                        2   \n",
       "2                 1                   1                        1   \n",
       "3                 1                   1                        1   \n",
       "4                 1                   1                        1   \n",
       "\n",
       "   accident_severity  \n",
       "0                  3  \n",
       "1                  3  \n",
       "2                  3  \n",
       "3                  3  \n",
       "4                  3  "
      ]
     },
     "execution_count": 48,
     "metadata": {},
     "output_type": "execute_result"
    }
   ],
   "source": [
    "DS1_DS2.head()"
   ]
  },
  {
   "cell_type": "code",
   "execution_count": 49,
   "id": "d8bfbec0",
   "metadata": {},
   "outputs": [
    {
     "name": "stdout",
     "output_type": "stream",
     "text": [
      "<class 'pandas.core.frame.DataFrame'>\n",
      "Int64Index: 61352 entries, 0 to 61351\n",
      "Data columns (total 14 columns):\n",
      " #   Column                                       Non-Null Count  Dtype\n",
      "---  ------                                       --------------  -----\n",
      " 0   casualty_severity                            61352 non-null  int64\n",
      " 1   vehicle_reference                            61352 non-null  int64\n",
      " 2   casualty_class                               61352 non-null  int64\n",
      " 3   casualty_reference                           61352 non-null  int64\n",
      " 4   sex_of_casualty                              61352 non-null  int64\n",
      " 5   age_of_casualty                              61352 non-null  int64\n",
      " 6   number_of_casualties                         61352 non-null  int64\n",
      " 7   speed_limit                                  61352 non-null  int64\n",
      " 8   car_passenger                                61352 non-null  int64\n",
      " 9   did_police_officer_attend_scene_of_accident  61352 non-null  int64\n",
      " 10  light_conditions                             61352 non-null  int64\n",
      " 11  weather_conditions                           61352 non-null  int64\n",
      " 12  road_surface_conditions                      61352 non-null  int64\n",
      " 13  accident_severity                            61352 non-null  int64\n",
      "dtypes: int64(14)\n",
      "memory usage: 7.0 MB\n"
     ]
    }
   ],
   "source": [
    "DS1_DS2.info()"
   ]
  },
  {
   "cell_type": "markdown",
   "id": "691d1584",
   "metadata": {},
   "source": [
    "# Correcting data type"
   ]
  },
  {
   "cell_type": "code",
   "execution_count": 50,
   "id": "e3d7f533",
   "metadata": {},
   "outputs": [],
   "source": [
    "#replacing 'car_passenger' with its actual value\n",
    "DS1_DS2['car_passenger'] = DS1_DS2['car_passenger'].replace({0: 'No passenger', 1: 'First Class', \n",
    "2: 'Second Class', 9:None, -1:None})"
   ]
  },
  {
   "cell_type": "code",
   "execution_count": 51,
   "id": "bd810c7c",
   "metadata": {},
   "outputs": [],
   "source": [
    "#replacing 'sex_of_casualty' with its actual value\n",
    "DS1_DS2['sex_of_casualty'] = DS1_DS2['sex_of_casualty'].replace({1: 'Male',2:'Female', 9:None,-1:None})"
   ]
  },
  {
   "cell_type": "code",
   "execution_count": 52,
   "id": "9755890a",
   "metadata": {},
   "outputs": [],
   "source": [
    "#replacing 'casualty_severity' with its actual value\n",
    "DS1_DS2['casualty_severity'] = DS1_DS2['casualty_severity'].replace({1:'Fatal',2: 'Serious',3:'Medium'})"
   ]
  },
  {
   "cell_type": "code",
   "execution_count": 53,
   "id": "9fb9a65d",
   "metadata": {},
   "outputs": [],
   "source": [
    "#replacing 'casualty_class' with its actual value\n",
    "DS1_DS2['casualty_class'] = DS1_DS2['casualty_class'].replace({1:'Driver',2:'Passenger',3:'Pedestrian'})"
   ]
  },
  {
   "cell_type": "code",
   "execution_count": 54,
   "id": "47961120",
   "metadata": {},
   "outputs": [],
   "source": [
    "#replacing 'light_conditions' with its actual value\n",
    "DS1_DS2['light_conditions'] = DS1_DS2['light_conditions'].replace({1: 'Daylight',\n",
    "4: 'Darkness-lights',5:'Darkness-lights unlit',6:'Darkness-no lighting',7:'Darkness-lighting unknown',99:None, \n",
    "-1:None})"
   ]
  },
  {
   "cell_type": "code",
   "execution_count": 55,
   "id": "4a81be69",
   "metadata": {},
   "outputs": [],
   "source": [
    "#replacing 'weather_conditions' with its actual value\n",
    "DS1_DS2['weather_conditions'] = DS1_DS2['weather_conditions'].replace({1: 'Sunny',\n",
    "2: 'Rainy',3:'Snowing',4:'Windy',5:'Cloudy',6:'Foggy',\n",
    "7:'Lighting', 8:'other',9:'Unknown', -1:'Missing'})\n"
   ]
  },
  {
   "cell_type": "code",
   "execution_count": 56,
   "id": "227dc3b0",
   "metadata": {},
   "outputs": [],
   "source": [
    "#replacing 'did_police_officer_attend_scene_of_accident' with its actual value\n",
    "DS1_DS2['did_police_officer_attend_scene_of_accident'] = DS1_DS2['did_police_officer_attend_scene_of_accident'].replace({\n",
    "1: 'Yes', 2: 'No',3:'Unknown',-1:None})"
   ]
  },
  {
   "cell_type": "code",
   "execution_count": 57,
   "id": "ea3783ba",
   "metadata": {},
   "outputs": [],
   "source": [
    "#replacing 'accident_severity' with its actual value\n",
    "DS1_DS2['accident_severity'] = DS1_DS2['accident_severity'].replace({1: 'Fatal',2: 'Serious',3:'Medium'})\n"
   ]
  },
  {
   "cell_type": "code",
   "execution_count": 58,
   "id": "7db70b70",
   "metadata": {},
   "outputs": [],
   "source": [
    "#replacing 'road_surface_conditions' with its actual value\n",
    "DS1_DS2['road_surface_conditions'] = DS1_DS2['road_surface_conditions'].replace({1: 'Dry',2: 'Wet',3:'Snow',\n",
    "4:'frozy',5:'rocky',6:'oil',7:'Mud',9:None, -1:None})"
   ]
  },
  {
   "cell_type": "code",
   "execution_count": 59,
   "id": "3026c206",
   "metadata": {},
   "outputs": [
    {
     "data": {
      "text/html": [
       "<div>\n",
       "<style scoped>\n",
       "    .dataframe tbody tr th:only-of-type {\n",
       "        vertical-align: middle;\n",
       "    }\n",
       "\n",
       "    .dataframe tbody tr th {\n",
       "        vertical-align: top;\n",
       "    }\n",
       "\n",
       "    .dataframe thead th {\n",
       "        text-align: right;\n",
       "    }\n",
       "</style>\n",
       "<table border=\"1\" class=\"dataframe\">\n",
       "  <thead>\n",
       "    <tr style=\"text-align: right;\">\n",
       "      <th></th>\n",
       "      <th>casualty_severity</th>\n",
       "      <th>vehicle_reference</th>\n",
       "      <th>casualty_class</th>\n",
       "      <th>casualty_reference</th>\n",
       "      <th>sex_of_casualty</th>\n",
       "      <th>age_of_casualty</th>\n",
       "      <th>number_of_casualties</th>\n",
       "      <th>speed_limit</th>\n",
       "      <th>car_passenger</th>\n",
       "      <th>did_police_officer_attend_scene_of_accident</th>\n",
       "      <th>light_conditions</th>\n",
       "      <th>weather_conditions</th>\n",
       "      <th>road_surface_conditions</th>\n",
       "      <th>accident_severity</th>\n",
       "    </tr>\n",
       "  </thead>\n",
       "  <tbody>\n",
       "    <tr>\n",
       "      <th>0</th>\n",
       "      <td>Medium</td>\n",
       "      <td>2</td>\n",
       "      <td>Driver</td>\n",
       "      <td>1</td>\n",
       "      <td>Female</td>\n",
       "      <td>46</td>\n",
       "      <td>1</td>\n",
       "      <td>60</td>\n",
       "      <td>No passenger</td>\n",
       "      <td>No</td>\n",
       "      <td>Daylight</td>\n",
       "      <td>Rainy</td>\n",
       "      <td>Wet</td>\n",
       "      <td>Medium</td>\n",
       "    </tr>\n",
       "    <tr>\n",
       "      <th>1</th>\n",
       "      <td>Medium</td>\n",
       "      <td>1</td>\n",
       "      <td>Driver</td>\n",
       "      <td>1</td>\n",
       "      <td>Male</td>\n",
       "      <td>30</td>\n",
       "      <td>1</td>\n",
       "      <td>30</td>\n",
       "      <td>No passenger</td>\n",
       "      <td>Yes</td>\n",
       "      <td>Darkness-lights</td>\n",
       "      <td>Rainy</td>\n",
       "      <td>Wet</td>\n",
       "      <td>Medium</td>\n",
       "    </tr>\n",
       "    <tr>\n",
       "      <th>2</th>\n",
       "      <td>Medium</td>\n",
       "      <td>1</td>\n",
       "      <td>Driver</td>\n",
       "      <td>1</td>\n",
       "      <td>Female</td>\n",
       "      <td>58</td>\n",
       "      <td>6</td>\n",
       "      <td>70</td>\n",
       "      <td>No passenger</td>\n",
       "      <td>Yes</td>\n",
       "      <td>Daylight</td>\n",
       "      <td>Sunny</td>\n",
       "      <td>Dry</td>\n",
       "      <td>Medium</td>\n",
       "    </tr>\n",
       "    <tr>\n",
       "      <th>3</th>\n",
       "      <td>Medium</td>\n",
       "      <td>2</td>\n",
       "      <td>Driver</td>\n",
       "      <td>3</td>\n",
       "      <td>Female</td>\n",
       "      <td>78</td>\n",
       "      <td>6</td>\n",
       "      <td>70</td>\n",
       "      <td>No passenger</td>\n",
       "      <td>Yes</td>\n",
       "      <td>Daylight</td>\n",
       "      <td>Sunny</td>\n",
       "      <td>Dry</td>\n",
       "      <td>Medium</td>\n",
       "    </tr>\n",
       "    <tr>\n",
       "      <th>4</th>\n",
       "      <td>Medium</td>\n",
       "      <td>3</td>\n",
       "      <td>Driver</td>\n",
       "      <td>2</td>\n",
       "      <td>Male</td>\n",
       "      <td>63</td>\n",
       "      <td>6</td>\n",
       "      <td>70</td>\n",
       "      <td>No passenger</td>\n",
       "      <td>Yes</td>\n",
       "      <td>Daylight</td>\n",
       "      <td>Sunny</td>\n",
       "      <td>Dry</td>\n",
       "      <td>Medium</td>\n",
       "    </tr>\n",
       "  </tbody>\n",
       "</table>\n",
       "</div>"
      ],
      "text/plain": [
       "  casualty_severity  vehicle_reference casualty_class  casualty_reference  \\\n",
       "0            Medium                  2         Driver                   1   \n",
       "1            Medium                  1         Driver                   1   \n",
       "2            Medium                  1         Driver                   1   \n",
       "3            Medium                  2         Driver                   3   \n",
       "4            Medium                  3         Driver                   2   \n",
       "\n",
       "  sex_of_casualty  age_of_casualty  number_of_casualties  speed_limit  \\\n",
       "0          Female               46                     1           60   \n",
       "1            Male               30                     1           30   \n",
       "2          Female               58                     6           70   \n",
       "3          Female               78                     6           70   \n",
       "4            Male               63                     6           70   \n",
       "\n",
       "  car_passenger did_police_officer_attend_scene_of_accident light_conditions  \\\n",
       "0  No passenger                                          No         Daylight   \n",
       "1  No passenger                                         Yes  Darkness-lights   \n",
       "2  No passenger                                         Yes         Daylight   \n",
       "3  No passenger                                         Yes         Daylight   \n",
       "4  No passenger                                         Yes         Daylight   \n",
       "\n",
       "  weather_conditions road_surface_conditions accident_severity  \n",
       "0              Rainy                     Wet            Medium  \n",
       "1              Rainy                     Wet            Medium  \n",
       "2              Sunny                     Dry            Medium  \n",
       "3              Sunny                     Dry            Medium  \n",
       "4              Sunny                     Dry            Medium  "
      ]
     },
     "execution_count": 59,
     "metadata": {},
     "output_type": "execute_result"
    }
   ],
   "source": [
    "# Our data looks below after given correct values to the catergorical variables.\n",
    "DS1_DS2.head()"
   ]
  },
  {
   "cell_type": "markdown",
   "id": "06b5ecc2",
   "metadata": {},
   "source": [
    "## Renaming of Column"
   ]
  },
  {
   "cell_type": "code",
   "execution_count": 60,
   "id": "c352ebf0",
   "metadata": {},
   "outputs": [],
   "source": [
    "#As an example we are renaming a column precise name in order to recognize the letter properly.\n",
    "DS1_DS2 = DS1_DS2.rename(columns={\"did_police_officer_attend_scene_of_accident\":\"Police_attendance\"})"
   ]
  },
  {
   "cell_type": "code",
   "execution_count": 61,
   "id": "d932cf2e",
   "metadata": {},
   "outputs": [
    {
     "data": {
      "text/html": [
       "<div>\n",
       "<style scoped>\n",
       "    .dataframe tbody tr th:only-of-type {\n",
       "        vertical-align: middle;\n",
       "    }\n",
       "\n",
       "    .dataframe tbody tr th {\n",
       "        vertical-align: top;\n",
       "    }\n",
       "\n",
       "    .dataframe thead th {\n",
       "        text-align: right;\n",
       "    }\n",
       "</style>\n",
       "<table border=\"1\" class=\"dataframe\">\n",
       "  <thead>\n",
       "    <tr style=\"text-align: right;\">\n",
       "      <th></th>\n",
       "      <th>casualty_severity</th>\n",
       "      <th>vehicle_reference</th>\n",
       "      <th>casualty_class</th>\n",
       "      <th>casualty_reference</th>\n",
       "      <th>sex_of_casualty</th>\n",
       "      <th>age_of_casualty</th>\n",
       "      <th>number_of_casualties</th>\n",
       "      <th>speed_limit</th>\n",
       "      <th>car_passenger</th>\n",
       "      <th>Police_attendance</th>\n",
       "      <th>light_conditions</th>\n",
       "      <th>weather_conditions</th>\n",
       "      <th>road_surface_conditions</th>\n",
       "      <th>accident_severity</th>\n",
       "    </tr>\n",
       "  </thead>\n",
       "  <tbody>\n",
       "    <tr>\n",
       "      <th>0</th>\n",
       "      <td>Medium</td>\n",
       "      <td>2</td>\n",
       "      <td>Driver</td>\n",
       "      <td>1</td>\n",
       "      <td>Female</td>\n",
       "      <td>46</td>\n",
       "      <td>1</td>\n",
       "      <td>60</td>\n",
       "      <td>No passenger</td>\n",
       "      <td>No</td>\n",
       "      <td>Daylight</td>\n",
       "      <td>Rainy</td>\n",
       "      <td>Wet</td>\n",
       "      <td>Medium</td>\n",
       "    </tr>\n",
       "    <tr>\n",
       "      <th>1</th>\n",
       "      <td>Medium</td>\n",
       "      <td>1</td>\n",
       "      <td>Driver</td>\n",
       "      <td>1</td>\n",
       "      <td>Male</td>\n",
       "      <td>30</td>\n",
       "      <td>1</td>\n",
       "      <td>30</td>\n",
       "      <td>No passenger</td>\n",
       "      <td>Yes</td>\n",
       "      <td>Darkness-lights</td>\n",
       "      <td>Rainy</td>\n",
       "      <td>Wet</td>\n",
       "      <td>Medium</td>\n",
       "    </tr>\n",
       "    <tr>\n",
       "      <th>2</th>\n",
       "      <td>Medium</td>\n",
       "      <td>1</td>\n",
       "      <td>Driver</td>\n",
       "      <td>1</td>\n",
       "      <td>Female</td>\n",
       "      <td>58</td>\n",
       "      <td>6</td>\n",
       "      <td>70</td>\n",
       "      <td>No passenger</td>\n",
       "      <td>Yes</td>\n",
       "      <td>Daylight</td>\n",
       "      <td>Sunny</td>\n",
       "      <td>Dry</td>\n",
       "      <td>Medium</td>\n",
       "    </tr>\n",
       "    <tr>\n",
       "      <th>3</th>\n",
       "      <td>Medium</td>\n",
       "      <td>2</td>\n",
       "      <td>Driver</td>\n",
       "      <td>3</td>\n",
       "      <td>Female</td>\n",
       "      <td>78</td>\n",
       "      <td>6</td>\n",
       "      <td>70</td>\n",
       "      <td>No passenger</td>\n",
       "      <td>Yes</td>\n",
       "      <td>Daylight</td>\n",
       "      <td>Sunny</td>\n",
       "      <td>Dry</td>\n",
       "      <td>Medium</td>\n",
       "    </tr>\n",
       "    <tr>\n",
       "      <th>4</th>\n",
       "      <td>Medium</td>\n",
       "      <td>3</td>\n",
       "      <td>Driver</td>\n",
       "      <td>2</td>\n",
       "      <td>Male</td>\n",
       "      <td>63</td>\n",
       "      <td>6</td>\n",
       "      <td>70</td>\n",
       "      <td>No passenger</td>\n",
       "      <td>Yes</td>\n",
       "      <td>Daylight</td>\n",
       "      <td>Sunny</td>\n",
       "      <td>Dry</td>\n",
       "      <td>Medium</td>\n",
       "    </tr>\n",
       "  </tbody>\n",
       "</table>\n",
       "</div>"
      ],
      "text/plain": [
       "  casualty_severity  vehicle_reference casualty_class  casualty_reference  \\\n",
       "0            Medium                  2         Driver                   1   \n",
       "1            Medium                  1         Driver                   1   \n",
       "2            Medium                  1         Driver                   1   \n",
       "3            Medium                  2         Driver                   3   \n",
       "4            Medium                  3         Driver                   2   \n",
       "\n",
       "  sex_of_casualty  age_of_casualty  number_of_casualties  speed_limit  \\\n",
       "0          Female               46                     1           60   \n",
       "1            Male               30                     1           30   \n",
       "2          Female               58                     6           70   \n",
       "3          Female               78                     6           70   \n",
       "4            Male               63                     6           70   \n",
       "\n",
       "  car_passenger Police_attendance light_conditions weather_conditions  \\\n",
       "0  No passenger                No         Daylight              Rainy   \n",
       "1  No passenger               Yes  Darkness-lights              Rainy   \n",
       "2  No passenger               Yes         Daylight              Sunny   \n",
       "3  No passenger               Yes         Daylight              Sunny   \n",
       "4  No passenger               Yes         Daylight              Sunny   \n",
       "\n",
       "  road_surface_conditions accident_severity  \n",
       "0                     Wet            Medium  \n",
       "1                     Wet            Medium  \n",
       "2                     Dry            Medium  \n",
       "3                     Dry            Medium  \n",
       "4                     Dry            Medium  "
      ]
     },
     "execution_count": 61,
     "metadata": {},
     "output_type": "execute_result"
    }
   ],
   "source": [
    "DS1_DS2.head()"
   ]
  },
  {
   "cell_type": "code",
   "execution_count": 62,
   "id": "f39b6f8b",
   "metadata": {},
   "outputs": [
    {
     "data": {
      "text/plain": [
       "casualty_severity            0\n",
       "vehicle_reference            0\n",
       "casualty_class               0\n",
       "casualty_reference           0\n",
       "sex_of_casualty            458\n",
       "age_of_casualty              0\n",
       "number_of_casualties         0\n",
       "speed_limit                  0\n",
       "car_passenger              381\n",
       "Police_attendance            4\n",
       "light_conditions             0\n",
       "weather_conditions           0\n",
       "road_surface_conditions    935\n",
       "accident_severity            0\n",
       "dtype: int64"
      ]
     },
     "execution_count": 62,
     "metadata": {},
     "output_type": "execute_result"
    }
   ],
   "source": [
    "#To see null values in the data\n",
    "DS1_DS2.isnull().sum()"
   ]
  },
  {
   "cell_type": "markdown",
   "id": "0c85d04f",
   "metadata": {},
   "source": [
    "## Relationship Between variables in both datasets"
   ]
  },
  {
   "cell_type": "code",
   "execution_count": 63,
   "id": "37d3121e",
   "metadata": {},
   "outputs": [
    {
     "data": {
      "image/png": "[encoded data removed]",
      "text/plain": [
       "<Figure size 720x504 with 2 Axes>"
      ]
     },
     "metadata": {},
     "output_type": "display_data"
    }
   ],
   "source": [
    "import seaborn as sns\n",
    "corr = DS1_DS2.corr()\n",
    "plt.subplots(figsize=(10,7,))\n",
    "heatmap = sns.heatmap(DS1_DS2.corr(), vmin=-1, vmax=1, annot=True, cmap='BrBG')\n",
    "heatmap.set_title('Casualty Correlation', fontdict={'fontsize':20}, pad=12);"
   ]
  },
  {
   "cell_type": "markdown",
   "id": "ab2cd159",
   "metadata": {},
   "source": [
    "## Calculation of missing values"
   ]
  },
  {
   "cell_type": "code",
   "execution_count": 64,
   "id": "ac7e742d",
   "metadata": {},
   "outputs": [
    {
     "data": {
      "text/plain": [
       "casualty_severity            0\n",
       "vehicle_reference            0\n",
       "casualty_class               0\n",
       "casualty_reference           0\n",
       "sex_of_casualty            458\n",
       "age_of_casualty              0\n",
       "number_of_casualties         0\n",
       "speed_limit                  0\n",
       "car_passenger              381\n",
       "Police_attendance            4\n",
       "light_conditions             0\n",
       "weather_conditions           0\n",
       "road_surface_conditions    935\n",
       "accident_severity            0\n",
       "dtype: int64"
      ]
     },
     "execution_count": 64,
     "metadata": {},
     "output_type": "execute_result"
    }
   ],
   "source": [
    "#To see null values in the data\n",
    "DS1_DS2.isnull().sum()"
   ]
  },
  {
   "cell_type": "code",
   "execution_count": 65,
   "id": "353bfdda",
   "metadata": {},
   "outputs": [
    {
     "data": {
      "text/plain": [
       "0.7465119311513887"
      ]
     },
     "execution_count": 65,
     "metadata": {},
     "output_type": "execute_result"
    }
   ],
   "source": [
    "DS1_DS2[DS1_DS2['sex_of_casualty'].isnull()].shape[0]* 100 / len(DS1_DS2)"
   ]
  },
  {
   "cell_type": "code",
   "execution_count": 66,
   "id": "f0756a3b",
   "metadata": {},
   "outputs": [
    {
     "data": {
      "text/plain": [
       "0.6210066501499544"
      ]
     },
     "execution_count": 66,
     "metadata": {},
     "output_type": "execute_result"
    }
   ],
   "source": [
    "DS1_DS2[DS1_DS2['car_passenger'].isnull()].shape[0]* 100 / len(DS1_DS2)\n"
   ]
  },
  {
   "cell_type": "code",
   "execution_count": 67,
   "id": "b4fea5c3",
   "metadata": {},
   "outputs": [
    {
     "data": {
      "text/plain": [
       "1.52399269787456"
      ]
     },
     "execution_count": 67,
     "metadata": {},
     "output_type": "execute_result"
    }
   ],
   "source": [
    "DS1_DS2[DS1_DS2['road_surface_conditions'].isnull()].shape[0]* 100 / len(DS1_DS2)"
   ]
  },
  {
   "cell_type": "code",
   "execution_count": 68,
   "id": "09390a06",
   "metadata": {},
   "outputs": [
    {
     "data": {
      "text/plain": [
       "casualty_severity            0\n",
       "vehicle_reference            0\n",
       "casualty_class               0\n",
       "casualty_reference           0\n",
       "sex_of_casualty            458\n",
       "age_of_casualty              0\n",
       "number_of_casualties         0\n",
       "speed_limit                  0\n",
       "car_passenger              381\n",
       "Police_attendance            4\n",
       "light_conditions             0\n",
       "weather_conditions           0\n",
       "road_surface_conditions    935\n",
       "accident_severity            0\n",
       "dtype: int64"
      ]
     },
     "execution_count": 68,
     "metadata": {},
     "output_type": "execute_result"
    }
   ],
   "source": [
    "DS1_DS2.isnull().sum()"
   ]
  },
  {
   "cell_type": "code",
   "execution_count": 69,
   "id": "739bf9bf",
   "metadata": {},
   "outputs": [],
   "source": [
    "DS1_DS2.dropna(inplace=True)"
   ]
  },
  {
   "cell_type": "code",
   "execution_count": 70,
   "id": "cc917f4f",
   "metadata": {},
   "outputs": [
    {
     "data": {
      "text/plain": [
       "casualty_severity          0\n",
       "vehicle_reference          0\n",
       "casualty_class             0\n",
       "casualty_reference         0\n",
       "sex_of_casualty            0\n",
       "age_of_casualty            0\n",
       "number_of_casualties       0\n",
       "speed_limit                0\n",
       "car_passenger              0\n",
       "Police_attendance          0\n",
       "light_conditions           0\n",
       "weather_conditions         0\n",
       "road_surface_conditions    0\n",
       "accident_severity          0\n",
       "dtype: int64"
      ]
     },
     "execution_count": 70,
     "metadata": {},
     "output_type": "execute_result"
    }
   ],
   "source": [
    "DS1_DS2.isnull().sum()"
   ]
  },
  {
   "cell_type": "code",
   "execution_count": 71,
   "id": "9268cbf2",
   "metadata": {},
   "outputs": [
    {
     "data": {
      "text/plain": [
       "casualty_severity          object\n",
       "vehicle_reference           int64\n",
       "casualty_class             object\n",
       "casualty_reference          int64\n",
       "sex_of_casualty            object\n",
       "age_of_casualty             int64\n",
       "number_of_casualties        int64\n",
       "speed_limit                 int64\n",
       "car_passenger              object\n",
       "Police_attendance          object\n",
       "light_conditions           object\n",
       "weather_conditions         object\n",
       "road_surface_conditions    object\n",
       "accident_severity          object\n",
       "dtype: object"
      ]
     },
     "execution_count": 71,
     "metadata": {},
     "output_type": "execute_result"
    }
   ],
   "source": [
    "DS1_DS2.dtypes"
   ]
  },
  {
   "cell_type": "code",
   "execution_count": 72,
   "id": "cc984822",
   "metadata": {},
   "outputs": [
    {
     "name": "stdout",
     "output_type": "stream",
     "text": [
      "<class 'pandas.core.frame.DataFrame'>\n",
      "Int64Index: 59660 entries, 0 to 61351\n",
      "Data columns (total 14 columns):\n",
      " #   Column                   Non-Null Count  Dtype \n",
      "---  ------                   --------------  ----- \n",
      " 0   casualty_severity        59660 non-null  object\n",
      " 1   vehicle_reference        59660 non-null  int64 \n",
      " 2   casualty_class           59660 non-null  object\n",
      " 3   casualty_reference       59660 non-null  int64 \n",
      " 4   sex_of_casualty          59660 non-null  object\n",
      " 5   age_of_casualty          59660 non-null  int64 \n",
      " 6   number_of_casualties     59660 non-null  int64 \n",
      " 7   speed_limit              59660 non-null  int64 \n",
      " 8   car_passenger            59660 non-null  object\n",
      " 9   Police_attendance        59660 non-null  object\n",
      " 10  light_conditions         59660 non-null  object\n",
      " 11  weather_conditions       59660 non-null  object\n",
      " 12  road_surface_conditions  59660 non-null  object\n",
      " 13  accident_severity        59660 non-null  object\n",
      "dtypes: int64(5), object(9)\n",
      "memory usage: 6.8+ MB\n"
     ]
    }
   ],
   "source": [
    "DS1_DS2.info()"
   ]
  },
  {
   "cell_type": "markdown",
   "id": "9b393903",
   "metadata": {},
   "source": [
    "## Data Splitting \n",
    "\n",
    "We set aside a test part of the dataset as soon as possible, so as to avoid data snooping bias and hence resulting in over-fitting the model to test data. As it can overestimate the accuracy\n",
    "\n",
    "We'll use 80% of the dataset for training and 20% for evaluation. The split will be done using stratified sampling to ensure the distributions of the \"Casualty Severity\" values are similar in the training and test set."
   ]
  },
  {
   "cell_type": "markdown",
   "id": "4d4e17aa",
   "metadata": {},
   "source": [
    "In Python, the stratify parameter is often used in machine learning tasks to ensure that the distribution of classes in the training and testing sets is proportional to the overall distribution of classes in the entire dataset."
   ]
  },
  {
   "cell_type": "code",
   "execution_count": 73,
   "id": "43e3edc9",
   "metadata": {},
   "outputs": [],
   "source": [
    "from sklearn.model_selection import train_test_split\n",
    "trainingdata, testingdata = train_test_split(DS1_DS2, test_size=0.2, random_state=7, shuffle=False)"
   ]
  },
  {
   "cell_type": "code",
   "execution_count": 74,
   "id": "d3061a00",
   "metadata": {},
   "outputs": [
    {
     "name": "stdout",
     "output_type": "stream",
     "text": [
      "47728 train and 11932 test instances\n"
     ]
    }
   ],
   "source": [
    "print(f\"{trainingdata.shape[0]} train and {testingdata.shape[0]} test instances\")"
   ]
  },
  {
   "cell_type": "markdown",
   "id": "4f10a65d",
   "metadata": {},
   "source": [
    "# Checking of the data similarity and comparision"
   ]
  },
  {
   "cell_type": "code",
   "execution_count": 75,
   "id": "8c53e341",
   "metadata": {},
   "outputs": [
    {
     "data": {
      "text/plain": [
       "Medium     0.792784\n",
       "Serious    0.193807\n",
       "Fatal      0.013409\n",
       "Name: casualty_severity, dtype: float64"
      ]
     },
     "execution_count": 75,
     "metadata": {},
     "output_type": "execute_result"
    }
   ],
   "source": [
    "trainingdata[\"casualty_severity\"].value_counts(normalize=True)"
   ]
  },
  {
   "cell_type": "code",
   "execution_count": 76,
   "id": "3ea967b3",
   "metadata": {},
   "outputs": [
    {
     "data": {
      "text/plain": [
       "Medium     0.792072\n",
       "Serious    0.195441\n",
       "Fatal      0.012487\n",
       "Name: casualty_severity, dtype: float64"
      ]
     },
     "execution_count": 76,
     "metadata": {},
     "output_type": "execute_result"
    }
   ],
   "source": [
    "testingdata[\"casualty_severity\"].value_counts(normalize=True)"
   ]
  },
  {
   "cell_type": "code",
   "execution_count": 77,
   "id": "816a333b",
   "metadata": {},
   "outputs": [
    {
     "data": {
      "text/plain": [
       "(47728, 14)"
      ]
     },
     "execution_count": 77,
     "metadata": {},
     "output_type": "execute_result"
    }
   ],
   "source": [
    "# In this case we can present the size of our training and testing datas.\n",
    "trainingdata.shape"
   ]
  },
  {
   "cell_type": "code",
   "execution_count": 78,
   "id": "86a3477d",
   "metadata": {},
   "outputs": [
    {
     "data": {
      "text/plain": [
       "(11932, 14)"
      ]
     },
     "execution_count": 78,
     "metadata": {},
     "output_type": "execute_result"
    }
   ],
   "source": [
    "testingdata.shape"
   ]
  },
  {
   "cell_type": "code",
   "execution_count": 79,
   "id": "56470857",
   "metadata": {},
   "outputs": [
    {
     "data": {
      "image/png": "[encoded data removed]",
      "text/plain": [
       "<Figure size 1152x1008 with 6 Axes>"
      ]
     },
     "metadata": {},
     "output_type": "display_data"
    }
   ],
   "source": [
    "Histogram = testingdata.hist(bins=50, figsize=(16,14), color = \"orange\")"
   ]
  },
  {
   "cell_type": "code",
   "execution_count": 80,
   "id": "9d9efd9e",
   "metadata": {},
   "outputs": [
    {
     "data": {
      "image/png": "[encoded data removed]",
      "text/plain": [
       "<Figure size 1152x720 with 6 Axes>"
      ]
     },
     "metadata": {},
     "output_type": "display_data"
    }
   ],
   "source": [
    "trainingdata.hist(edgecolor='white', linewidth=1)\n",
    "fig=plt.gcf()\n",
    "fig.set_size_inches(16,10)\n",
    "plt.show()"
   ]
  },
  {
   "cell_type": "markdown",
   "id": "b854c2d3",
   "metadata": {},
   "source": [
    "#### Statistic and Distribution of Categorical and Numerical Independent Variables"
   ]
  },
  {
   "cell_type": "code",
   "execution_count": 81,
   "id": "dbfee35c",
   "metadata": {},
   "outputs": [
    {
     "data": {
      "text/html": [
       "<div>\n",
       "<style scoped>\n",
       "    .dataframe tbody tr th:only-of-type {\n",
       "        vertical-align: middle;\n",
       "    }\n",
       "\n",
       "    .dataframe tbody tr th {\n",
       "        vertical-align: top;\n",
       "    }\n",
       "\n",
       "    .dataframe thead th {\n",
       "        text-align: right;\n",
       "    }\n",
       "</style>\n",
       "<table border=\"1\" class=\"dataframe\">\n",
       "  <thead>\n",
       "    <tr style=\"text-align: right;\">\n",
       "      <th></th>\n",
       "      <th>vehicle_reference</th>\n",
       "      <th>casualty_reference</th>\n",
       "      <th>age_of_casualty</th>\n",
       "      <th>number_of_casualties</th>\n",
       "      <th>speed_limit</th>\n",
       "    </tr>\n",
       "  </thead>\n",
       "  <tbody>\n",
       "    <tr>\n",
       "      <th>0</th>\n",
       "      <td>2</td>\n",
       "      <td>1</td>\n",
       "      <td>46</td>\n",
       "      <td>1</td>\n",
       "      <td>60</td>\n",
       "    </tr>\n",
       "    <tr>\n",
       "      <th>1</th>\n",
       "      <td>1</td>\n",
       "      <td>1</td>\n",
       "      <td>30</td>\n",
       "      <td>1</td>\n",
       "      <td>30</td>\n",
       "    </tr>\n",
       "    <tr>\n",
       "      <th>2</th>\n",
       "      <td>1</td>\n",
       "      <td>1</td>\n",
       "      <td>58</td>\n",
       "      <td>6</td>\n",
       "      <td>70</td>\n",
       "    </tr>\n",
       "    <tr>\n",
       "      <th>3</th>\n",
       "      <td>2</td>\n",
       "      <td>3</td>\n",
       "      <td>78</td>\n",
       "      <td>6</td>\n",
       "      <td>70</td>\n",
       "    </tr>\n",
       "    <tr>\n",
       "      <th>4</th>\n",
       "      <td>3</td>\n",
       "      <td>2</td>\n",
       "      <td>63</td>\n",
       "      <td>6</td>\n",
       "      <td>70</td>\n",
       "    </tr>\n",
       "  </tbody>\n",
       "</table>\n",
       "</div>"
      ],
      "text/plain": [
       "   vehicle_reference  casualty_reference  age_of_casualty  \\\n",
       "0                  2                   1               46   \n",
       "1                  1                   1               30   \n",
       "2                  1                   1               58   \n",
       "3                  2                   3               78   \n",
       "4                  3                   2               63   \n",
       "\n",
       "   number_of_casualties  speed_limit  \n",
       "0                     1           60  \n",
       "1                     1           30  \n",
       "2                     6           70  \n",
       "3                     6           70  \n",
       "4                     6           70  "
      ]
     },
     "execution_count": 81,
     "metadata": {},
     "output_type": "execute_result"
    }
   ],
   "source": [
    "Numerical = DS1_DS2.select_dtypes(include='int64')\n",
    "Numerical.head()"
   ]
  },
  {
   "cell_type": "code",
   "execution_count": 82,
   "id": "1a6d8ac9",
   "metadata": {},
   "outputs": [
    {
     "data": {
      "text/plain": [
       "(59660, 5)"
      ]
     },
     "execution_count": 82,
     "metadata": {},
     "output_type": "execute_result"
    }
   ],
   "source": [
    "Numerical.shape"
   ]
  },
  {
   "cell_type": "code",
   "execution_count": 83,
   "id": "5e518d07",
   "metadata": {},
   "outputs": [
    {
     "data": {
      "text/plain": [
       "<AxesSubplot:ylabel='Frequency'>"
      ]
     },
     "execution_count": 83,
     "metadata": {},
     "output_type": "execute_result"
    },
    {
     "data": {
      "image/png": "[encoded data removed]",
      "text/plain": [
       "<Figure size 432x288 with 1 Axes>"
      ]
     },
     "metadata": {},
     "output_type": "display_data"
    }
   ],
   "source": [
    "Numerical.plot(kind='hist')"
   ]
  },
  {
   "cell_type": "code",
   "execution_count": 84,
   "id": "d9cf18b2",
   "metadata": {},
   "outputs": [
    {
     "data": {
      "text/plain": [
       "count    59660.000000\n",
       "mean         1.452883\n",
       "std          1.121662\n",
       "min          1.000000\n",
       "25%          1.000000\n",
       "50%          1.000000\n",
       "75%          2.000000\n",
       "max        227.000000\n",
       "Name: vehicle_reference, dtype: float64"
      ]
     },
     "execution_count": 84,
     "metadata": {},
     "output_type": "execute_result"
    }
   ],
   "source": [
    "#using describe to get the descriptive statistics.\n",
    "Numerical['vehicle_reference'].describe()"
   ]
  },
  {
   "cell_type": "code",
   "execution_count": 85,
   "id": "594f3dae",
   "metadata": {},
   "outputs": [
    {
     "data": {
      "text/plain": [
       "<AxesSubplot:>"
      ]
     },
     "execution_count": 85,
     "metadata": {},
     "output_type": "execute_result"
    },
    {
     "data": {
      "image/png": "[encoded data removed]",
      "text/plain": [
       "<Figure size 432x288 with 1 Axes>"
      ]
     },
     "metadata": {},
     "output_type": "display_data"
    }
   ],
   "source": [
    "Numerical['vehicle_reference'].value_counts().plot(kind='bar',color=\"blue\")"
   ]
  },
  {
   "cell_type": "code",
   "execution_count": 86,
   "id": "074f0e4a",
   "metadata": {},
   "outputs": [
    {
     "data": {
      "text/plain": [
       "count    59660.000000\n",
       "mean        37.247335\n",
       "std         14.799837\n",
       "min         -1.000000\n",
       "25%         30.000000\n",
       "50%         30.000000\n",
       "75%         50.000000\n",
       "max         70.000000\n",
       "Name: speed_limit, dtype: float64"
      ]
     },
     "execution_count": 86,
     "metadata": {},
     "output_type": "execute_result"
    }
   ],
   "source": [
    "Numerical['speed_limit'].describe()"
   ]
  },
  {
   "cell_type": "code",
   "execution_count": 87,
   "id": "b3f97185",
   "metadata": {},
   "outputs": [
    {
     "data": {
      "text/plain": [
       "<AxesSubplot:>"
      ]
     },
     "execution_count": 87,
     "metadata": {},
     "output_type": "execute_result"
    },
    {
     "data": {
      "image/png": "[encoded data removed]",
      "text/plain": [
       "<Figure size 432x288 with 1 Axes>"
      ]
     },
     "metadata": {},
     "output_type": "display_data"
    }
   ],
   "source": [
    "Numerical['speed_limit'].value_counts().plot(kind='bar',color=\"blue\")"
   ]
  },
  {
   "cell_type": "code",
   "execution_count": 88,
   "id": "eabbf9f4",
   "metadata": {},
   "outputs": [
    {
     "data": {
      "text/plain": [
       "count    59660.000000\n",
       "mean        37.018605\n",
       "std         19.436822\n",
       "min         -1.000000\n",
       "25%         22.000000\n",
       "50%         34.000000\n",
       "75%         51.000000\n",
       "max        101.000000\n",
       "Name: age_of_casualty, dtype: float64"
      ]
     },
     "execution_count": 88,
     "metadata": {},
     "output_type": "execute_result"
    }
   ],
   "source": [
    "Numerical['age_of_casualty'].describe()"
   ]
  },
  {
   "cell_type": "code",
   "execution_count": 89,
   "id": "fa7c7b3b",
   "metadata": {},
   "outputs": [
    {
     "data": {
      "text/plain": [
       "<AxesSubplot:>"
      ]
     },
     "execution_count": 89,
     "metadata": {},
     "output_type": "execute_result"
    },
    {
     "data": {
      "image/png": "[encoded data removed]",
      "text/plain": [
       "<Figure size 432x288 with 1 Axes>"
      ]
     },
     "metadata": {},
     "output_type": "display_data"
    }
   ],
   "source": [
    "Numerical['age_of_casualty'].value_counts().plot(kind='bar',color=\"blue\")"
   ]
  },
  {
   "cell_type": "code",
   "execution_count": 90,
   "id": "4c747014",
   "metadata": {},
   "outputs": [
    {
     "data": {
      "text/html": [
       "<div>\n",
       "<style scoped>\n",
       "    .dataframe tbody tr th:only-of-type {\n",
       "        vertical-align: middle;\n",
       "    }\n",
       "\n",
       "    .dataframe tbody tr th {\n",
       "        vertical-align: top;\n",
       "    }\n",
       "\n",
       "    .dataframe thead th {\n",
       "        text-align: right;\n",
       "    }\n",
       "</style>\n",
       "<table border=\"1\" class=\"dataframe\">\n",
       "  <thead>\n",
       "    <tr style=\"text-align: right;\">\n",
       "      <th></th>\n",
       "      <th>casualty_severity</th>\n",
       "      <th>casualty_class</th>\n",
       "      <th>sex_of_casualty</th>\n",
       "      <th>car_passenger</th>\n",
       "      <th>Police_attendance</th>\n",
       "      <th>light_conditions</th>\n",
       "      <th>weather_conditions</th>\n",
       "      <th>road_surface_conditions</th>\n",
       "      <th>accident_severity</th>\n",
       "    </tr>\n",
       "  </thead>\n",
       "  <tbody>\n",
       "    <tr>\n",
       "      <th>0</th>\n",
       "      <td>Medium</td>\n",
       "      <td>Driver</td>\n",
       "      <td>Female</td>\n",
       "      <td>No passenger</td>\n",
       "      <td>No</td>\n",
       "      <td>Daylight</td>\n",
       "      <td>Rainy</td>\n",
       "      <td>Wet</td>\n",
       "      <td>Medium</td>\n",
       "    </tr>\n",
       "    <tr>\n",
       "      <th>1</th>\n",
       "      <td>Medium</td>\n",
       "      <td>Driver</td>\n",
       "      <td>Male</td>\n",
       "      <td>No passenger</td>\n",
       "      <td>Yes</td>\n",
       "      <td>Darkness-lights</td>\n",
       "      <td>Rainy</td>\n",
       "      <td>Wet</td>\n",
       "      <td>Medium</td>\n",
       "    </tr>\n",
       "    <tr>\n",
       "      <th>2</th>\n",
       "      <td>Medium</td>\n",
       "      <td>Driver</td>\n",
       "      <td>Female</td>\n",
       "      <td>No passenger</td>\n",
       "      <td>Yes</td>\n",
       "      <td>Daylight</td>\n",
       "      <td>Sunny</td>\n",
       "      <td>Dry</td>\n",
       "      <td>Medium</td>\n",
       "    </tr>\n",
       "    <tr>\n",
       "      <th>3</th>\n",
       "      <td>Medium</td>\n",
       "      <td>Driver</td>\n",
       "      <td>Female</td>\n",
       "      <td>No passenger</td>\n",
       "      <td>Yes</td>\n",
       "      <td>Daylight</td>\n",
       "      <td>Sunny</td>\n",
       "      <td>Dry</td>\n",
       "      <td>Medium</td>\n",
       "    </tr>\n",
       "    <tr>\n",
       "      <th>4</th>\n",
       "      <td>Medium</td>\n",
       "      <td>Driver</td>\n",
       "      <td>Male</td>\n",
       "      <td>No passenger</td>\n",
       "      <td>Yes</td>\n",
       "      <td>Daylight</td>\n",
       "      <td>Sunny</td>\n",
       "      <td>Dry</td>\n",
       "      <td>Medium</td>\n",
       "    </tr>\n",
       "  </tbody>\n",
       "</table>\n",
       "</div>"
      ],
      "text/plain": [
       "  casualty_severity casualty_class sex_of_casualty car_passenger  \\\n",
       "0            Medium         Driver          Female  No passenger   \n",
       "1            Medium         Driver            Male  No passenger   \n",
       "2            Medium         Driver          Female  No passenger   \n",
       "3            Medium         Driver          Female  No passenger   \n",
       "4            Medium         Driver            Male  No passenger   \n",
       "\n",
       "  Police_attendance light_conditions weather_conditions  \\\n",
       "0                No         Daylight              Rainy   \n",
       "1               Yes  Darkness-lights              Rainy   \n",
       "2               Yes         Daylight              Sunny   \n",
       "3               Yes         Daylight              Sunny   \n",
       "4               Yes         Daylight              Sunny   \n",
       "\n",
       "  road_surface_conditions accident_severity  \n",
       "0                     Wet            Medium  \n",
       "1                     Wet            Medium  \n",
       "2                     Dry            Medium  \n",
       "3                     Dry            Medium  \n",
       "4                     Dry            Medium  "
      ]
     },
     "execution_count": 90,
     "metadata": {},
     "output_type": "execute_result"
    }
   ],
   "source": [
    "Categorical = DS1_DS2.select_dtypes(include='object')\n",
    "Categorical.head()"
   ]
  },
  {
   "cell_type": "code",
   "execution_count": 91,
   "id": "86d8a699",
   "metadata": {},
   "outputs": [
    {
     "data": {
      "text/plain": [
       "(59660, 9)"
      ]
     },
     "execution_count": 91,
     "metadata": {},
     "output_type": "execute_result"
    }
   ],
   "source": [
    "Categorical.shape"
   ]
  },
  {
   "cell_type": "markdown",
   "id": "d1d7771c",
   "metadata": {},
   "source": [
    "## Target Variable Statistic and Distribution"
   ]
  },
  {
   "cell_type": "code",
   "execution_count": 92,
   "id": "664f6d73",
   "metadata": {},
   "outputs": [
    {
     "data": {
      "text/plain": [
       "count      59660\n",
       "unique         3\n",
       "top       Medium\n",
       "freq       47289\n",
       "Name: casualty_severity, dtype: object"
      ]
     },
     "execution_count": 92,
     "metadata": {},
     "output_type": "execute_result"
    }
   ],
   "source": [
    "#using describe to get the descriptive statistics.\n",
    "Categorical['casualty_severity'].describe()"
   ]
  },
  {
   "cell_type": "code",
   "execution_count": 93,
   "id": "11c1103b",
   "metadata": {},
   "outputs": [
    {
     "data": {
      "image/png": "[encoded data removed]",
      "text/plain": [
       "<Figure size 720x360 with 1 Axes>"
      ]
     },
     "metadata": {},
     "output_type": "display_data"
    }
   ],
   "source": [
    "import seaborn as sns\n",
    "sns.catplot(x='casualty_severity', data=Categorical, kind='count', aspect=2);\n",
    "plt.tight_layout();"
   ]
  },
  {
   "cell_type": "markdown",
   "id": "742b5798",
   "metadata": {},
   "source": [
    "#### Exploratory Variables Statistic and Distribution as Sample from Dataset"
   ]
  },
  {
   "cell_type": "code",
   "execution_count": 94,
   "id": "7ec5e852",
   "metadata": {},
   "outputs": [
    {
     "data": {
      "text/plain": [
       "count      59660\n",
       "unique         3\n",
       "top       Driver\n",
       "freq       39889\n",
       "Name: casualty_class, dtype: object"
      ]
     },
     "execution_count": 94,
     "metadata": {},
     "output_type": "execute_result"
    }
   ],
   "source": [
    "# Statistic for casualty class\n",
    "Categorical['casualty_class'].describe()"
   ]
  },
  {
   "cell_type": "code",
   "execution_count": 95,
   "id": "c92e703a",
   "metadata": {},
   "outputs": [
    {
     "data": {
      "image/png": "[encoded data removed]",
      "text/plain": [
       "<Figure size 720x360 with 1 Axes>"
      ]
     },
     "metadata": {},
     "output_type": "display_data"
    }
   ],
   "source": [
    "# Plot for casualty class\n",
    "sns.catplot(x='casualty_class', data=Categorical, kind='count', aspect=2);\n",
    "plt.tight_layout();"
   ]
  },
  {
   "cell_type": "code",
   "execution_count": 96,
   "id": "a83abf7c",
   "metadata": {},
   "outputs": [
    {
     "data": {
      "text/plain": [
       "count     59660\n",
       "unique        5\n",
       "top         Dry\n",
       "freq      46806\n",
       "Name: road_surface_conditions, dtype: object"
      ]
     },
     "execution_count": 96,
     "metadata": {},
     "output_type": "execute_result"
    }
   ],
   "source": [
    "# Statistic for road surface and condition\n",
    "Categorical['road_surface_conditions'].describe()"
   ]
  },
  {
   "cell_type": "code",
   "execution_count": 97,
   "id": "4eea083a",
   "metadata": {},
   "outputs": [
    {
     "data": {
      "image/png": "[encoded data removed]",
      "text/plain": [
       "<Figure size 720x360 with 1 Axes>"
      ]
     },
     "metadata": {},
     "output_type": "display_data"
    }
   ],
   "source": [
    "# Plot for road surface and condition\n",
    "sns.catplot(x='road_surface_conditions', data=Categorical, kind='count', aspect=2);\n",
    "plt.tight_layout();"
   ]
  },
  {
   "cell_type": "code",
   "execution_count": 98,
   "id": "617d19ab",
   "metadata": {},
   "outputs": [
    {
     "data": {
      "text/plain": [
       "casualty_severity          0\n",
       "vehicle_reference          0\n",
       "casualty_class             0\n",
       "casualty_reference         0\n",
       "sex_of_casualty            0\n",
       "age_of_casualty            0\n",
       "number_of_casualties       0\n",
       "speed_limit                0\n",
       "car_passenger              0\n",
       "Police_attendance          0\n",
       "light_conditions           0\n",
       "weather_conditions         0\n",
       "road_surface_conditions    0\n",
       "accident_severity          0\n",
       "dtype: int64"
      ]
     },
     "execution_count": 98,
     "metadata": {},
     "output_type": "execute_result"
    }
   ],
   "source": [
    "#checking the number of NaN for each column\n",
    "trainingdata.isnull().sum()"
   ]
  },
  {
   "cell_type": "code",
   "execution_count": 99,
   "id": "12225960",
   "metadata": {},
   "outputs": [
    {
     "data": {
      "text/plain": [
       "casualty_severity          0\n",
       "vehicle_reference          0\n",
       "casualty_class             0\n",
       "casualty_reference         0\n",
       "sex_of_casualty            0\n",
       "age_of_casualty            0\n",
       "number_of_casualties       0\n",
       "speed_limit                0\n",
       "car_passenger              0\n",
       "Police_attendance          0\n",
       "light_conditions           0\n",
       "weather_conditions         0\n",
       "road_surface_conditions    0\n",
       "accident_severity          0\n",
       "dtype: int64"
      ]
     },
     "execution_count": 99,
     "metadata": {},
     "output_type": "execute_result"
    }
   ],
   "source": [
    "# Checking the number of NaNs in the test set per column\n",
    "testingdata.isnull().sum()"
   ]
  },
  {
   "cell_type": "code",
   "execution_count": 100,
   "id": "db113fd7",
   "metadata": {},
   "outputs": [
    {
     "data": {
      "text/plain": [
       "casualty_severity          object\n",
       "vehicle_reference           int64\n",
       "casualty_class             object\n",
       "casualty_reference          int64\n",
       "sex_of_casualty            object\n",
       "age_of_casualty             int64\n",
       "number_of_casualties        int64\n",
       "speed_limit                 int64\n",
       "car_passenger              object\n",
       "Police_attendance          object\n",
       "light_conditions           object\n",
       "weather_conditions         object\n",
       "road_surface_conditions    object\n",
       "accident_severity          object\n",
       "dtype: object"
      ]
     },
     "execution_count": 100,
     "metadata": {},
     "output_type": "execute_result"
    }
   ],
   "source": [
    "#checking datatype\n",
    "testingdata.dtypes"
   ]
  },
  {
   "cell_type": "code",
   "execution_count": 101,
   "id": "3a367c1b",
   "metadata": {},
   "outputs": [],
   "source": [
    "from sklearn.base import TransformerMixin, BaseEstimator \n",
    "class OutlierTransformer(TransformerMixin, BaseEstimator):\n",
    "\n",
    "    def __init__(self):\n",
    "        self.fitted = False\n",
    "        return None\n",
    "\n",
    "    def fit(self, X):\n",
    "        #Selecting and handling outliers for only the columns containing numerical variables\n",
    "        numerics = ['int16', 'int32', 'int64']\n",
    "        numeric_X = X.select_dtypes(include=numerics)\n",
    "        # Get Quantiles and Inter Quartile Range\n",
    "        self.quantiles = pd.DataFrame(numeric_X.quantile([0.25, 0.75]))\n",
    "        self.quantiles.loc['IQR',:] = self.quantiles.loc[0.75,:] - self.quantiles.loc[0.25,:]\n",
    "        #Calculate Upper and Lower Bounds\n",
    "        #These bounds are calculated on the Train Dataset, then applied to the train and test datasets\n",
    "        self.quantiles.loc['Lower_Bound',:] = self.quantiles.loc[0.25,:] - 1.5 * self.quantiles.loc['IQR',:]\n",
    "        self.quantiles.loc['Upper_Bound',:] = self.quantiles.loc[0.75,:] + 1.5 * self.quantiles.loc['IQR',:]\n",
    "        #Save fitting status\n",
    "        self.fitted = True\n",
    "        return self\n",
    "\n",
    "    def transform(self, X):\n",
    "        if self.fitted == False:\n",
    "            print('The transformer must be fitted before transformation.')\n",
    "            return None\n",
    "            #Make a copy of X to avoid mutating X\n",
    "        X_copy = X.copy()\n",
    "        #Old number of NaNs to count number of outliers\n",
    "        old_num_na = sum(X_copy.isna().sum())\n",
    "        for col in self.quantiles.columns:\n",
    "            #Fill Beyond Lower Bound\n",
    "            X_copy.loc[X_copy.loc[:,col] < self.quantiles.loc['Lower_Bound',col],col] = np.NaN\n",
    "            #Fill Beyond Upper Bound\n",
    "            X_copy.loc[X_copy.loc[:,col] > self.quantiles.loc['Upper_Bound',col],col] = np.NaN\n",
    "            #Print Number of Outliers\n",
    "            print(str(sum(X_copy.isna().sum()) - old_num_na) + ' Outliers are Identified.')\n",
    "        return X_copy\n"
   ]
  },
  {
   "cell_type": "code",
   "execution_count": 102,
   "id": "193e6958",
   "metadata": {},
   "outputs": [
    {
     "name": "stdout",
     "output_type": "stream",
     "text": [
      "260 Outliers are Identified.\n",
      "10742 Outliers are Identified.\n",
      "10758 Outliers are Identified.\n",
      "13926 Outliers are Identified.\n",
      "13971 Outliers are Identified.\n"
     ]
    }
   ],
   "source": [
    "# OutlierTransformer() function is called then fitted on the trainset\n",
    "\n",
    "outlier_transformer = OutlierTransformer()\n",
    "trainset = outlier_transformer.fit_transform(trainingdata)\n",
    "\n",
    "# All the outliers were transformed as NaN"
   ]
  },
  {
   "cell_type": "code",
   "execution_count": 103,
   "id": "d600d1aa",
   "metadata": {},
   "outputs": [
    {
     "data": {
      "text/plain": [
       "casualty_severity          0\n",
       "vehicle_reference          0\n",
       "casualty_class             0\n",
       "casualty_reference         0\n",
       "sex_of_casualty            0\n",
       "age_of_casualty            0\n",
       "number_of_casualties       0\n",
       "speed_limit                0\n",
       "car_passenger              0\n",
       "Police_attendance          0\n",
       "light_conditions           0\n",
       "weather_conditions         0\n",
       "road_surface_conditions    0\n",
       "accident_severity          0\n",
       "dtype: int64"
      ]
     },
     "execution_count": 103,
     "metadata": {},
     "output_type": "execute_result"
    }
   ],
   "source": [
    "#checking the number of NaN for each column\n",
    "trainingdata.isnull().sum()"
   ]
  },
  {
   "cell_type": "code",
   "execution_count": 104,
   "id": "c6788384",
   "metadata": {},
   "outputs": [
    {
     "name": "stdout",
     "output_type": "stream",
     "text": [
      "260 Outliers are Identified.\n",
      "10742 Outliers are Identified.\n",
      "10758 Outliers are Identified.\n",
      "13926 Outliers are Identified.\n",
      "13971 Outliers are Identified.\n"
     ]
    }
   ],
   "source": [
    "#Transform the outliers in the test set into NaNs\n",
    "trainingdata = outlier_transformer.transform(trainingdata)"
   ]
  },
  {
   "cell_type": "code",
   "execution_count": 105,
   "id": "5fd94d71",
   "metadata": {},
   "outputs": [
    {
     "data": {
      "text/plain": [
       "casualty_severity              0\n",
       "vehicle_reference            260\n",
       "casualty_class                 0\n",
       "casualty_reference         10482\n",
       "sex_of_casualty                0\n",
       "age_of_casualty               16\n",
       "number_of_casualties        3168\n",
       "speed_limit                   45\n",
       "car_passenger                  0\n",
       "Police_attendance              0\n",
       "light_conditions               0\n",
       "weather_conditions             0\n",
       "road_surface_conditions        0\n",
       "accident_severity              0\n",
       "dtype: int64"
      ]
     },
     "execution_count": 105,
     "metadata": {},
     "output_type": "execute_result"
    }
   ],
   "source": [
    "# Checking the number of NaNs in the test set per column\n",
    "trainingdata.isnull().sum()"
   ]
  },
  {
   "cell_type": "code",
   "execution_count": 106,
   "id": "83e33905",
   "metadata": {},
   "outputs": [
    {
     "data": {
      "text/plain": [
       "casualty_severity           object\n",
       "vehicle_reference          float64\n",
       "casualty_class              object\n",
       "casualty_reference         float64\n",
       "sex_of_casualty             object\n",
       "age_of_casualty            float64\n",
       "number_of_casualties       float64\n",
       "speed_limit                float64\n",
       "car_passenger               object\n",
       "Police_attendance           object\n",
       "light_conditions            object\n",
       "weather_conditions          object\n",
       "road_surface_conditions     object\n",
       "accident_severity           object\n",
       "dtype: object"
      ]
     },
     "execution_count": 106,
     "metadata": {},
     "output_type": "execute_result"
    }
   ],
   "source": [
    "#checking datatype\n",
    "trainingdata.dtypes"
   ]
  },
  {
   "cell_type": "code",
   "execution_count": 107,
   "id": "732dcc7e",
   "metadata": {},
   "outputs": [],
   "source": [
    "trainingdata[\"vehicle_reference\"].fillna(trainingdata[\"vehicle_reference\"].median(), inplace=True)\n",
    "trainingdata[\"casualty_reference\"].fillna(trainingdata[\"casualty_reference\"].median(), inplace=True)\n",
    "trainingdata[\"age_of_casualty\"].fillna(trainingdata[\"age_of_casualty\"].median(), inplace=True)\n",
    "trainingdata[\"number_of_casualties\"].fillna(trainingdata[\"number_of_casualties\"].median(), inplace=True)\n",
    "trainingdata[\"speed_limit\"].fillna(trainingdata[\"speed_limit\"].median(), inplace=True)"
   ]
  },
  {
   "cell_type": "code",
   "execution_count": 108,
   "id": "6fd35aa0",
   "metadata": {},
   "outputs": [
    {
     "data": {
      "text/html": [
       "<div>\n",
       "<style scoped>\n",
       "    .dataframe tbody tr th:only-of-type {\n",
       "        vertical-align: middle;\n",
       "    }\n",
       "\n",
       "    .dataframe tbody tr th {\n",
       "        vertical-align: top;\n",
       "    }\n",
       "\n",
       "    .dataframe thead th {\n",
       "        text-align: right;\n",
       "    }\n",
       "</style>\n",
       "<table border=\"1\" class=\"dataframe\">\n",
       "  <thead>\n",
       "    <tr style=\"text-align: right;\">\n",
       "      <th></th>\n",
       "      <th>casualty_severity</th>\n",
       "      <th>vehicle_reference</th>\n",
       "      <th>casualty_class</th>\n",
       "      <th>casualty_reference</th>\n",
       "      <th>sex_of_casualty</th>\n",
       "      <th>age_of_casualty</th>\n",
       "      <th>number_of_casualties</th>\n",
       "      <th>speed_limit</th>\n",
       "      <th>car_passenger</th>\n",
       "      <th>Police_attendance</th>\n",
       "      <th>light_conditions</th>\n",
       "      <th>weather_conditions</th>\n",
       "      <th>road_surface_conditions</th>\n",
       "      <th>accident_severity</th>\n",
       "    </tr>\n",
       "  </thead>\n",
       "  <tbody>\n",
       "    <tr>\n",
       "      <th>0</th>\n",
       "      <td>Medium</td>\n",
       "      <td>2.0</td>\n",
       "      <td>Driver</td>\n",
       "      <td>1.0</td>\n",
       "      <td>Female</td>\n",
       "      <td>46.0</td>\n",
       "      <td>1.0</td>\n",
       "      <td>60.0</td>\n",
       "      <td>No passenger</td>\n",
       "      <td>No</td>\n",
       "      <td>Daylight</td>\n",
       "      <td>Rainy</td>\n",
       "      <td>Wet</td>\n",
       "      <td>Medium</td>\n",
       "    </tr>\n",
       "    <tr>\n",
       "      <th>1</th>\n",
       "      <td>Medium</td>\n",
       "      <td>1.0</td>\n",
       "      <td>Driver</td>\n",
       "      <td>1.0</td>\n",
       "      <td>Male</td>\n",
       "      <td>30.0</td>\n",
       "      <td>1.0</td>\n",
       "      <td>30.0</td>\n",
       "      <td>No passenger</td>\n",
       "      <td>Yes</td>\n",
       "      <td>Darkness-lights</td>\n",
       "      <td>Rainy</td>\n",
       "      <td>Wet</td>\n",
       "      <td>Medium</td>\n",
       "    </tr>\n",
       "    <tr>\n",
       "      <th>2</th>\n",
       "      <td>Medium</td>\n",
       "      <td>1.0</td>\n",
       "      <td>Driver</td>\n",
       "      <td>1.0</td>\n",
       "      <td>Female</td>\n",
       "      <td>58.0</td>\n",
       "      <td>1.0</td>\n",
       "      <td>70.0</td>\n",
       "      <td>No passenger</td>\n",
       "      <td>Yes</td>\n",
       "      <td>Daylight</td>\n",
       "      <td>Sunny</td>\n",
       "      <td>Dry</td>\n",
       "      <td>Medium</td>\n",
       "    </tr>\n",
       "  </tbody>\n",
       "</table>\n",
       "</div>"
      ],
      "text/plain": [
       "  casualty_severity  vehicle_reference casualty_class  casualty_reference  \\\n",
       "0            Medium                2.0         Driver                 1.0   \n",
       "1            Medium                1.0         Driver                 1.0   \n",
       "2            Medium                1.0         Driver                 1.0   \n",
       "\n",
       "  sex_of_casualty  age_of_casualty  number_of_casualties  speed_limit  \\\n",
       "0          Female             46.0                   1.0         60.0   \n",
       "1            Male             30.0                   1.0         30.0   \n",
       "2          Female             58.0                   1.0         70.0   \n",
       "\n",
       "  car_passenger Police_attendance light_conditions weather_conditions  \\\n",
       "0  No passenger                No         Daylight              Rainy   \n",
       "1  No passenger               Yes  Darkness-lights              Rainy   \n",
       "2  No passenger               Yes         Daylight              Sunny   \n",
       "\n",
       "  road_surface_conditions accident_severity  \n",
       "0                     Wet            Medium  \n",
       "1                     Wet            Medium  \n",
       "2                     Dry            Medium  "
      ]
     },
     "execution_count": 108,
     "metadata": {},
     "output_type": "execute_result"
    }
   ],
   "source": [
    "trainingdata.head(3)"
   ]
  },
  {
   "cell_type": "code",
   "execution_count": 109,
   "id": "ab843267",
   "metadata": {},
   "outputs": [
    {
     "data": {
      "text/plain": [
       "casualty_severity          0\n",
       "vehicle_reference          0\n",
       "casualty_class             0\n",
       "casualty_reference         0\n",
       "sex_of_casualty            0\n",
       "age_of_casualty            0\n",
       "number_of_casualties       0\n",
       "speed_limit                0\n",
       "car_passenger              0\n",
       "Police_attendance          0\n",
       "light_conditions           0\n",
       "weather_conditions         0\n",
       "road_surface_conditions    0\n",
       "accident_severity          0\n",
       "dtype: int64"
      ]
     },
     "execution_count": 109,
     "metadata": {},
     "output_type": "execute_result"
    }
   ],
   "source": [
    "trainingdata.isnull().sum()"
   ]
  },
  {
   "cell_type": "code",
   "execution_count": 110,
   "id": "366c652b",
   "metadata": {},
   "outputs": [],
   "source": [
    "testingdata[\"vehicle_reference\"].fillna(testingdata[\"vehicle_reference\"].median(), inplace=True)\n",
    "testingdata[\"casualty_reference\"].fillna(testingdata[\"casualty_reference\"].median(), inplace=True)\n",
    "testingdata[\"age_of_casualty\"].fillna(testingdata[\"age_of_casualty\"].median(), inplace=True)\n",
    "testingdata[\"number_of_casualties\"].fillna(testingdata[\"number_of_casualties\"].median(), inplace=True)\n",
    "testingdata[\"speed_limit\"].fillna(testingdata[\"speed_limit\"].median(), inplace=True)"
   ]
  },
  {
   "cell_type": "code",
   "execution_count": 111,
   "id": "d851a898",
   "metadata": {},
   "outputs": [
    {
     "data": {
      "text/plain": [
       "casualty_severity          0\n",
       "vehicle_reference          0\n",
       "casualty_class             0\n",
       "casualty_reference         0\n",
       "sex_of_casualty            0\n",
       "age_of_casualty            0\n",
       "number_of_casualties       0\n",
       "speed_limit                0\n",
       "car_passenger              0\n",
       "Police_attendance          0\n",
       "light_conditions           0\n",
       "weather_conditions         0\n",
       "road_surface_conditions    0\n",
       "accident_severity          0\n",
       "dtype: int64"
      ]
     },
     "execution_count": 111,
     "metadata": {},
     "output_type": "execute_result"
    }
   ],
   "source": [
    "testingdata.isnull().sum()"
   ]
  },
  {
   "cell_type": "markdown",
   "id": "691ee84d",
   "metadata": {},
   "source": [
    "# Citing this notebook\n",
    "\n",
    "If you use this notebook in your work, please cite it as follows:\n",
    "    \n",
    "Pekar, V. (2022). Big Data for Decision Making. Lecture examples and exercises. (Version 1.0.0). URL: https://github.com/vpekar/bd4dm\n"
   ]
  },
  {
   "cell_type": "code",
   "execution_count": null,
   "id": "6bc6e944",
   "metadata": {},
   "outputs": [],
   "source": []
  }
 ],
 "metadata": {
  "kernelspec": {
   "display_name": "Python 3 (ipykernel)",
   "language": "python",
   "name": "python3"
  },
  "language_info": {
   "codemirror_mode": {
    "name": "ipython",
    "version": 3
   },
   "file_extension": ".py",
   "mimetype": "text/x-python",
   "name": "python",
   "nbconvert_exporter": "python",
   "pygments_lexer": "ipython3",
   "version": "3.9.12"
  }
 },
 "nbformat": 4,
 "nbformat_minor": 5
}
