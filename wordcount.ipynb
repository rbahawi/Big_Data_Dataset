{
 "cells": [
  {
   "cell_type": "code",
   "execution_count": null,
   "id": "d70d9966",
   "metadata": {},
   "outputs": [],
   "source": []
  },
  {
   "cell_type": "code",
   "execution_count": null,
   "id": "8a122270",
   "metadata": {},
   "outputs": [],
   "source": []
  },
  {
   "cell_type": "markdown",
   "id": "e710c198",
   "metadata": {},
   "source": [
    "Introduction\n",
    "The two datasets provided are related to road casualty statistics in the UK for the year 2022. The first dataset contains information about accidents, such as the date and time, location, number of casualties, etc. The second dataset contains information about each casualty, such as age, gender, severity, etc. The objective of this analysis is to gain insights into the factors that contribute to road accidents and casualties in the UK.\n",
    "Business Problem\n",
    "The business problem we are trying to solve is to identify the factors that contribute to road accidents and casualties in the UK. By analyzing the data, we can identify patterns and trends that can help us take measures to reduce the number of accidents and casualties on UK roads.\n",
    "Loading the Data\n",
    "We can load the data using pandas, a popular data analysis library in Python.\n"
   ]
  },
  {
   "cell_type": "code",
   "execution_count": 5,
   "id": "e310b0b2",
   "metadata": {},
   "outputs": [
    {
     "ename": "FileNotFoundError",
     "evalue": "[Errno 2] No such file or directory: ''",
     "output_type": "error",
     "traceback": [
      "\u001b[1;31m---------------------------------------------------------------------------\u001b[0m",
      "\u001b[1;31mFileNotFoundError\u001b[0m                         Traceback (most recent call last)",
      "Input \u001b[1;32mIn [5]\u001b[0m, in \u001b[0;36m<cell line: 4>\u001b[1;34m()\u001b[0m\n\u001b[0;32m      1\u001b[0m \u001b[38;5;28;01mimport\u001b[39;00m \u001b[38;5;21;01mjson\u001b[39;00m\n\u001b[0;32m      3\u001b[0m \u001b[38;5;66;03m# Read the notebook file\u001b[39;00m\n\u001b[1;32m----> 4\u001b[0m \u001b[38;5;28;01mwith\u001b[39;00m \u001b[38;5;28;43mopen\u001b[39;49m\u001b[43m(\u001b[49m\u001b[38;5;124;43m'\u001b[39;49m\u001b[38;5;124;43m'\u001b[39;49m\u001b[43m)\u001b[49m \u001b[38;5;28;01mas\u001b[39;00m f:\n\u001b[0;32m      5\u001b[0m     notebook \u001b[38;5;241m=\u001b[39m json\u001b[38;5;241m.\u001b[39mload(f)\n\u001b[0;32m      7\u001b[0m \u001b[38;5;66;03m# Count the number of words in the markdown cells\u001b[39;00m\n",
      "\u001b[1;31mFileNotFoundError\u001b[0m: [Errno 2] No such file or directory: ''"
     ]
    }
   ],
   "source": [
    "import json\n",
    "\n",
    "# Read the notebook file\n",
    "with open('') as f:\n",
    "    notebook = json.load(f)\n",
    "\n",
    "# Count the number of words in the markdown cells\n",
    "word_count = 0\n",
    "for cell in notebook['cells']:\n",
    "    if cell['cell_type'] == 'markdown':\n",
    "        for line in cell['source']:\n",
    "            word_count += len(line.split())\n",
    "\n",
    "# Print the total number of words in the markdown cells\n",
    "print(f'Total number of words in the markdown cells: {word_count}')"
   ]
  },
  {
   "cell_type": "code",
   "execution_count": null,
   "id": "f5126261",
   "metadata": {},
   "outputs": [],
   "source": []
  }
 ],
 "metadata": {
  "kernelspec": {
   "display_name": "Python 3 (ipykernel)",
   "language": "python",
   "name": "python3"
  },
  "language_info": {
   "codemirror_mode": {
    "name": "ipython",
    "version": 3
   },
   "file_extension": ".py",
   "mimetype": "text/x-python",
   "name": "python",
   "nbconvert_exporter": "python",
   "pygments_lexer": "ipython3",
   "version": "3.9.12"
  }
 },
 "nbformat": 4,
 "nbformat_minor": 5
}
